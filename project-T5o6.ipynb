{
 "cells": [
  {
   "cell_type": "markdown",
   "id": "69754579",
   "metadata": {},
   "source": [
    "# Model to Predict the Relation Between Number of Death and Cancer Type In Children"
   ]
  },
  {
   "cell_type": "markdown",
   "id": "7d88353d",
   "metadata": {},
   "source": [
    " The aim of this project to detect which type of cancer type cauces highest number of death in children between 0-19 the dataset that I have use it in this project contain 8 colmun:\n",
    "1. Age_Group : (0>1 - 1-4, 10-14 , 15-19 , 20-24 , 25-29 , 30-34 , 35-39, 40-44, '45-49', '05-Sep', '50-54', '55-59', '60-64', '65-69','70-74', '75-79', '80-84', '85+')\n",
    "2. Count_of_People_Diagnosed_With_Cancer: for each group of age and type of cancer\n",
    "3. Cancer_Event_Type: death or Incidence\n",
    "4. Cancer_Frequency_Based_on_Race_And_Ethnicity\n",
    "5. Gender\n",
    "6. Cancer_Organ_Site: Brain and Other Nervous System', 'Cervix', 'Colon and Rectum','Female Breast', 'Hodgkin Lymphoma', 'Kidney and Renal Pelvis', 'Leukemias', 'Liver and Intrahepatic Bile Duct','Lung and Bronchus', 'Melanomas of the Skin','Non-Hodgkin Lymphoma', 'Oral Cavity and Pharynx', 'Ovary','Testis', 'Thyroid', 'Urinary Bladder', 'Corpus and Uterus, NOS','Pancreas', 'Stomach'.\n",
    "7. Data_Collection_Starting_Year: between 1999 to 2016\n",
    "\n"
   ]
  },
  {
   "cell_type": "markdown",
   "id": "1a25aa51",
   "metadata": {},
   "source": [
    "### 1. I have import all necessary library that i will use it to bulid my model: "
   ]
  },
  {
   "cell_type": "code",
   "execution_count": 964,
   "id": "c325056a",
   "metadata": {},
   "outputs": [],
   "source": [
    "import pandas as pd\n",
    "import numpy as np\n",
    "\n",
    "# visualization imports\n",
    "import matplotlib.pyplot as plt\n",
    "import seaborn as sns\n",
    "plt.style.use('fivethirtyeight')\n",
    "\n",
    "%matplotlib inline\n",
    "\n",
    "# modeling imports\n",
    "from sklearn.linear_model import LogisticRegression\n",
    "from sklearn.model_selection import train_test_split\n",
    "from sklearn.metrics import precision_score, recall_score, accuracy_score, roc_auc_score\n",
    "from sklearn.metrics import confusion_matrix\n",
    "from sklearn.preprocessing import StandardScaler\n",
    "from sklearn.metrics import classification_report,confusion_matrix, accuracy_score\n",
    "from sklearn.neighbors import KNeighborsClassifier"
   ]
  },
  {
   "cell_type": "markdown",
   "id": "b8601d1b",
   "metadata": {},
   "source": [
    "### 2. Read the Dataframe from \"cancer-by-age.csv\""
   ]
  },
  {
   "cell_type": "code",
   "execution_count": 965,
   "id": "19787f14",
   "metadata": {},
   "outputs": [],
   "source": [
    "cancerDF =pd.read_csv('cancer-by-age.csv')\n"
   ]
  },
  {
   "cell_type": "markdown",
   "id": "dbe24406",
   "metadata": {},
   "source": [
    "### 3. check the dataframe info, describe and head.."
   ]
  },
  {
   "cell_type": "code",
   "execution_count": 966,
   "id": "e62a9fdf",
   "metadata": {},
   "outputs": [
    {
     "data": {
      "text/html": [
       "<div>\n",
       "<style scoped>\n",
       "    .dataframe tbody tr th:only-of-type {\n",
       "        vertical-align: middle;\n",
       "    }\n",
       "\n",
       "    .dataframe tbody tr th {\n",
       "        vertical-align: top;\n",
       "    }\n",
       "\n",
       "    .dataframe thead th {\n",
       "        text-align: right;\n",
       "    }\n",
       "</style>\n",
       "<table border=\"1\" class=\"dataframe\">\n",
       "  <thead>\n",
       "    <tr style=\"text-align: right;\">\n",
       "      <th></th>\n",
       "      <th>Count_of_People_Diagnosed_With_Cancer</th>\n",
       "      <th>Data_Collection_Starting_Year</th>\n",
       "      <th>Data_Collection_Ending_Year</th>\n",
       "    </tr>\n",
       "  </thead>\n",
       "  <tbody>\n",
       "    <tr>\n",
       "      <th>count</th>\n",
       "      <td>1.661860e+05</td>\n",
       "      <td>327066.000000</td>\n",
       "      <td>17214.0</td>\n",
       "    </tr>\n",
       "    <tr>\n",
       "      <th>mean</th>\n",
       "      <td>2.413947e+03</td>\n",
       "      <td>2007.736842</td>\n",
       "      <td>2016.0</td>\n",
       "    </tr>\n",
       "    <tr>\n",
       "      <th>std</th>\n",
       "      <td>1.490531e+04</td>\n",
       "      <td>5.148765</td>\n",
       "      <td>0.0</td>\n",
       "    </tr>\n",
       "    <tr>\n",
       "      <th>min</th>\n",
       "      <td>1.600000e+01</td>\n",
       "      <td>1999.000000</td>\n",
       "      <td>2016.0</td>\n",
       "    </tr>\n",
       "    <tr>\n",
       "      <th>25%</th>\n",
       "      <td>5.400000e+01</td>\n",
       "      <td>2003.000000</td>\n",
       "      <td>2016.0</td>\n",
       "    </tr>\n",
       "    <tr>\n",
       "      <th>50%</th>\n",
       "      <td>1.850000e+02</td>\n",
       "      <td>2008.000000</td>\n",
       "      <td>2016.0</td>\n",
       "    </tr>\n",
       "    <tr>\n",
       "      <th>75%</th>\n",
       "      <td>9.220000e+02</td>\n",
       "      <td>2012.000000</td>\n",
       "      <td>2016.0</td>\n",
       "    </tr>\n",
       "    <tr>\n",
       "      <th>max</th>\n",
       "      <td>1.245044e+06</td>\n",
       "      <td>2016.000000</td>\n",
       "      <td>2016.0</td>\n",
       "    </tr>\n",
       "  </tbody>\n",
       "</table>\n",
       "</div>"
      ],
      "text/plain": [
       "       Count_of_People_Diagnosed_With_Cancer  Data_Collection_Starting_Year  \\\n",
       "count                           1.661860e+05                  327066.000000   \n",
       "mean                            2.413947e+03                    2007.736842   \n",
       "std                             1.490531e+04                       5.148765   \n",
       "min                             1.600000e+01                    1999.000000   \n",
       "25%                             5.400000e+01                    2003.000000   \n",
       "50%                             1.850000e+02                    2008.000000   \n",
       "75%                             9.220000e+02                    2012.000000   \n",
       "max                             1.245044e+06                    2016.000000   \n",
       "\n",
       "       Data_Collection_Ending_Year  \n",
       "count                      17214.0  \n",
       "mean                        2016.0  \n",
       "std                            0.0  \n",
       "min                         2016.0  \n",
       "25%                         2016.0  \n",
       "50%                         2016.0  \n",
       "75%                         2016.0  \n",
       "max                         2016.0  "
      ]
     },
     "execution_count": 966,
     "metadata": {},
     "output_type": "execute_result"
    }
   ],
   "source": [
    "cancerDF.describe()"
   ]
  },
  {
   "cell_type": "code",
   "execution_count": 967,
   "id": "522963f9",
   "metadata": {},
   "outputs": [
    {
     "name": "stdout",
     "output_type": "stream",
     "text": [
      "<class 'pandas.core.frame.DataFrame'>\n",
      "RangeIndex: 327066 entries, 0 to 327065\n",
      "Data columns (total 8 columns):\n",
      " #   Column                                        Non-Null Count   Dtype  \n",
      "---  ------                                        --------------   -----  \n",
      " 0   Age_Group                                     327066 non-null  object \n",
      " 1   Count_of_People_Diagnosed_With_Cancer         166186 non-null  float64\n",
      " 2   Cancer_Event_Type                             327066 non-null  object \n",
      " 3   Cancer_Frequency_Based_on_Race_And_Ethnicity  327066 non-null  object \n",
      " 4   Gender                                        327066 non-null  object \n",
      " 5   Cancer_Organ_Site                             327066 non-null  object \n",
      " 6   Data_Collection_Starting_Year                 327066 non-null  int64  \n",
      " 7   Data_Collection_Ending_Year                   17214 non-null   float64\n",
      "dtypes: float64(2), int64(1), object(5)\n",
      "memory usage: 20.0+ MB\n"
     ]
    }
   ],
   "source": [
    "cancerDF.info()"
   ]
  },
  {
   "cell_type": "code",
   "execution_count": 968,
   "id": "b0a871e3",
   "metadata": {},
   "outputs": [
    {
     "data": {
      "text/html": [
       "<div>\n",
       "<style scoped>\n",
       "    .dataframe tbody tr th:only-of-type {\n",
       "        vertical-align: middle;\n",
       "    }\n",
       "\n",
       "    .dataframe tbody tr th {\n",
       "        vertical-align: top;\n",
       "    }\n",
       "\n",
       "    .dataframe thead th {\n",
       "        text-align: right;\n",
       "    }\n",
       "</style>\n",
       "<table border=\"1\" class=\"dataframe\">\n",
       "  <thead>\n",
       "    <tr style=\"text-align: right;\">\n",
       "      <th></th>\n",
       "      <th>Age_Group</th>\n",
       "      <th>Count_of_People_Diagnosed_With_Cancer</th>\n",
       "      <th>Cancer_Event_Type</th>\n",
       "      <th>Cancer_Frequency_Based_on_Race_And_Ethnicity</th>\n",
       "      <th>Gender</th>\n",
       "      <th>Cancer_Organ_Site</th>\n",
       "      <th>Data_Collection_Starting_Year</th>\n",
       "      <th>Data_Collection_Ending_Year</th>\n",
       "    </tr>\n",
       "  </thead>\n",
       "  <tbody>\n",
       "    <tr>\n",
       "      <th>0</th>\n",
       "      <td>01-Apr</td>\n",
       "      <td>191.0</td>\n",
       "      <td>Mortality</td>\n",
       "      <td>All Races</td>\n",
       "      <td>Female</td>\n",
       "      <td>All Cancer Sites Combined</td>\n",
       "      <td>1999</td>\n",
       "      <td>NaN</td>\n",
       "    </tr>\n",
       "    <tr>\n",
       "      <th>1</th>\n",
       "      <td>Oct-14</td>\n",
       "      <td>227.0</td>\n",
       "      <td>Mortality</td>\n",
       "      <td>All Races</td>\n",
       "      <td>Female</td>\n",
       "      <td>All Cancer Sites Combined</td>\n",
       "      <td>1999</td>\n",
       "      <td>NaN</td>\n",
       "    </tr>\n",
       "    <tr>\n",
       "      <th>2</th>\n",
       "      <td>15-19</td>\n",
       "      <td>297.0</td>\n",
       "      <td>Mortality</td>\n",
       "      <td>All Races</td>\n",
       "      <td>Female</td>\n",
       "      <td>All Cancer Sites Combined</td>\n",
       "      <td>1999</td>\n",
       "      <td>NaN</td>\n",
       "    </tr>\n",
       "    <tr>\n",
       "      <th>3</th>\n",
       "      <td>20-24</td>\n",
       "      <td>404.0</td>\n",
       "      <td>Mortality</td>\n",
       "      <td>All Races</td>\n",
       "      <td>Female</td>\n",
       "      <td>All Cancer Sites Combined</td>\n",
       "      <td>1999</td>\n",
       "      <td>NaN</td>\n",
       "    </tr>\n",
       "    <tr>\n",
       "      <th>4</th>\n",
       "      <td>25-29</td>\n",
       "      <td>674.0</td>\n",
       "      <td>Mortality</td>\n",
       "      <td>All Races</td>\n",
       "      <td>Female</td>\n",
       "      <td>All Cancer Sites Combined</td>\n",
       "      <td>1999</td>\n",
       "      <td>NaN</td>\n",
       "    </tr>\n",
       "    <tr>\n",
       "      <th>5</th>\n",
       "      <td>30-34</td>\n",
       "      <td>1372.0</td>\n",
       "      <td>Mortality</td>\n",
       "      <td>All Races</td>\n",
       "      <td>Female</td>\n",
       "      <td>All Cancer Sites Combined</td>\n",
       "      <td>1999</td>\n",
       "      <td>NaN</td>\n",
       "    </tr>\n",
       "    <tr>\n",
       "      <th>6</th>\n",
       "      <td>35-39</td>\n",
       "      <td>3297.0</td>\n",
       "      <td>Mortality</td>\n",
       "      <td>All Races</td>\n",
       "      <td>Female</td>\n",
       "      <td>All Cancer Sites Combined</td>\n",
       "      <td>1999</td>\n",
       "      <td>NaN</td>\n",
       "    </tr>\n",
       "    <tr>\n",
       "      <th>7</th>\n",
       "      <td>40-44</td>\n",
       "      <td>5964.0</td>\n",
       "      <td>Mortality</td>\n",
       "      <td>All Races</td>\n",
       "      <td>Female</td>\n",
       "      <td>All Cancer Sites Combined</td>\n",
       "      <td>1999</td>\n",
       "      <td>NaN</td>\n",
       "    </tr>\n",
       "    <tr>\n",
       "      <th>8</th>\n",
       "      <td>45-49</td>\n",
       "      <td>9261.0</td>\n",
       "      <td>Mortality</td>\n",
       "      <td>All Races</td>\n",
       "      <td>Female</td>\n",
       "      <td>All Cancer Sites Combined</td>\n",
       "      <td>1999</td>\n",
       "      <td>NaN</td>\n",
       "    </tr>\n",
       "    <tr>\n",
       "      <th>9</th>\n",
       "      <td>05-Sep</td>\n",
       "      <td>230.0</td>\n",
       "      <td>Mortality</td>\n",
       "      <td>All Races</td>\n",
       "      <td>Female</td>\n",
       "      <td>All Cancer Sites Combined</td>\n",
       "      <td>1999</td>\n",
       "      <td>NaN</td>\n",
       "    </tr>\n",
       "    <tr>\n",
       "      <th>10</th>\n",
       "      <td>50-54</td>\n",
       "      <td>13786.0</td>\n",
       "      <td>Mortality</td>\n",
       "      <td>All Races</td>\n",
       "      <td>Female</td>\n",
       "      <td>All Cancer Sites Combined</td>\n",
       "      <td>1999</td>\n",
       "      <td>NaN</td>\n",
       "    </tr>\n",
       "    <tr>\n",
       "      <th>11</th>\n",
       "      <td>55-59</td>\n",
       "      <td>17746.0</td>\n",
       "      <td>Mortality</td>\n",
       "      <td>All Races</td>\n",
       "      <td>Female</td>\n",
       "      <td>All Cancer Sites Combined</td>\n",
       "      <td>1999</td>\n",
       "      <td>NaN</td>\n",
       "    </tr>\n",
       "    <tr>\n",
       "      <th>12</th>\n",
       "      <td>60-64</td>\n",
       "      <td>22488.0</td>\n",
       "      <td>Mortality</td>\n",
       "      <td>All Races</td>\n",
       "      <td>Female</td>\n",
       "      <td>All Cancer Sites Combined</td>\n",
       "      <td>1999</td>\n",
       "      <td>NaN</td>\n",
       "    </tr>\n",
       "    <tr>\n",
       "      <th>13</th>\n",
       "      <td>65-69</td>\n",
       "      <td>29499.0</td>\n",
       "      <td>Mortality</td>\n",
       "      <td>All Races</td>\n",
       "      <td>Female</td>\n",
       "      <td>All Cancer Sites Combined</td>\n",
       "      <td>1999</td>\n",
       "      <td>NaN</td>\n",
       "    </tr>\n",
       "    <tr>\n",
       "      <th>14</th>\n",
       "      <td>70-74</td>\n",
       "      <td>38295.0</td>\n",
       "      <td>Mortality</td>\n",
       "      <td>All Races</td>\n",
       "      <td>Female</td>\n",
       "      <td>All Cancer Sites Combined</td>\n",
       "      <td>1999</td>\n",
       "      <td>NaN</td>\n",
       "    </tr>\n",
       "    <tr>\n",
       "      <th>15</th>\n",
       "      <td>75-79</td>\n",
       "      <td>41690.0</td>\n",
       "      <td>Mortality</td>\n",
       "      <td>All Races</td>\n",
       "      <td>Female</td>\n",
       "      <td>All Cancer Sites Combined</td>\n",
       "      <td>1999</td>\n",
       "      <td>NaN</td>\n",
       "    </tr>\n",
       "    <tr>\n",
       "      <th>16</th>\n",
       "      <td>80-84</td>\n",
       "      <td>36020.0</td>\n",
       "      <td>Mortality</td>\n",
       "      <td>All Races</td>\n",
       "      <td>Female</td>\n",
       "      <td>All Cancer Sites Combined</td>\n",
       "      <td>1999</td>\n",
       "      <td>NaN</td>\n",
       "    </tr>\n",
       "    <tr>\n",
       "      <th>17</th>\n",
       "      <td>85+</td>\n",
       "      <td>42530.0</td>\n",
       "      <td>Mortality</td>\n",
       "      <td>All Races</td>\n",
       "      <td>Female</td>\n",
       "      <td>All Cancer Sites Combined</td>\n",
       "      <td>1999</td>\n",
       "      <td>NaN</td>\n",
       "    </tr>\n",
       "    <tr>\n",
       "      <th>18</th>\n",
       "      <td>&lt;1</td>\n",
       "      <td>32.0</td>\n",
       "      <td>Mortality</td>\n",
       "      <td>All Races</td>\n",
       "      <td>Female</td>\n",
       "      <td>All Cancer Sites Combined</td>\n",
       "      <td>1999</td>\n",
       "      <td>NaN</td>\n",
       "    </tr>\n",
       "    <tr>\n",
       "      <th>19</th>\n",
       "      <td>01-Apr</td>\n",
       "      <td>NaN</td>\n",
       "      <td>Mortality</td>\n",
       "      <td>American Indian/Alaska Native</td>\n",
       "      <td>Female</td>\n",
       "      <td>All Cancer Sites Combined</td>\n",
       "      <td>1999</td>\n",
       "      <td>NaN</td>\n",
       "    </tr>\n",
       "  </tbody>\n",
       "</table>\n",
       "</div>"
      ],
      "text/plain": [
       "   Age_Group  Count_of_People_Diagnosed_With_Cancer Cancer_Event_Type  \\\n",
       "0     01-Apr                                  191.0         Mortality   \n",
       "1     Oct-14                                  227.0         Mortality   \n",
       "2      15-19                                  297.0         Mortality   \n",
       "3      20-24                                  404.0         Mortality   \n",
       "4      25-29                                  674.0         Mortality   \n",
       "5      30-34                                 1372.0         Mortality   \n",
       "6      35-39                                 3297.0         Mortality   \n",
       "7      40-44                                 5964.0         Mortality   \n",
       "8      45-49                                 9261.0         Mortality   \n",
       "9     05-Sep                                  230.0         Mortality   \n",
       "10     50-54                                13786.0         Mortality   \n",
       "11     55-59                                17746.0         Mortality   \n",
       "12     60-64                                22488.0         Mortality   \n",
       "13     65-69                                29499.0         Mortality   \n",
       "14     70-74                                38295.0         Mortality   \n",
       "15     75-79                                41690.0         Mortality   \n",
       "16     80-84                                36020.0         Mortality   \n",
       "17       85+                                42530.0         Mortality   \n",
       "18        <1                                   32.0         Mortality   \n",
       "19    01-Apr                                    NaN         Mortality   \n",
       "\n",
       "   Cancer_Frequency_Based_on_Race_And_Ethnicity  Gender  \\\n",
       "0                                     All Races  Female   \n",
       "1                                     All Races  Female   \n",
       "2                                     All Races  Female   \n",
       "3                                     All Races  Female   \n",
       "4                                     All Races  Female   \n",
       "5                                     All Races  Female   \n",
       "6                                     All Races  Female   \n",
       "7                                     All Races  Female   \n",
       "8                                     All Races  Female   \n",
       "9                                     All Races  Female   \n",
       "10                                    All Races  Female   \n",
       "11                                    All Races  Female   \n",
       "12                                    All Races  Female   \n",
       "13                                    All Races  Female   \n",
       "14                                    All Races  Female   \n",
       "15                                    All Races  Female   \n",
       "16                                    All Races  Female   \n",
       "17                                    All Races  Female   \n",
       "18                                    All Races  Female   \n",
       "19                American Indian/Alaska Native  Female   \n",
       "\n",
       "            Cancer_Organ_Site  Data_Collection_Starting_Year  \\\n",
       "0   All Cancer Sites Combined                           1999   \n",
       "1   All Cancer Sites Combined                           1999   \n",
       "2   All Cancer Sites Combined                           1999   \n",
       "3   All Cancer Sites Combined                           1999   \n",
       "4   All Cancer Sites Combined                           1999   \n",
       "5   All Cancer Sites Combined                           1999   \n",
       "6   All Cancer Sites Combined                           1999   \n",
       "7   All Cancer Sites Combined                           1999   \n",
       "8   All Cancer Sites Combined                           1999   \n",
       "9   All Cancer Sites Combined                           1999   \n",
       "10  All Cancer Sites Combined                           1999   \n",
       "11  All Cancer Sites Combined                           1999   \n",
       "12  All Cancer Sites Combined                           1999   \n",
       "13  All Cancer Sites Combined                           1999   \n",
       "14  All Cancer Sites Combined                           1999   \n",
       "15  All Cancer Sites Combined                           1999   \n",
       "16  All Cancer Sites Combined                           1999   \n",
       "17  All Cancer Sites Combined                           1999   \n",
       "18  All Cancer Sites Combined                           1999   \n",
       "19  All Cancer Sites Combined                           1999   \n",
       "\n",
       "    Data_Collection_Ending_Year  \n",
       "0                           NaN  \n",
       "1                           NaN  \n",
       "2                           NaN  \n",
       "3                           NaN  \n",
       "4                           NaN  \n",
       "5                           NaN  \n",
       "6                           NaN  \n",
       "7                           NaN  \n",
       "8                           NaN  \n",
       "9                           NaN  \n",
       "10                          NaN  \n",
       "11                          NaN  \n",
       "12                          NaN  \n",
       "13                          NaN  \n",
       "14                          NaN  \n",
       "15                          NaN  \n",
       "16                          NaN  \n",
       "17                          NaN  \n",
       "18                          NaN  \n",
       "19                          NaN  "
      ]
     },
     "execution_count": 968,
     "metadata": {},
     "output_type": "execute_result"
    }
   ],
   "source": [
    "cancerDF.head(20)"
   ]
  },
  {
   "cell_type": "markdown",
   "id": "a418bd40",
   "metadata": {},
   "source": [
    "### 4. As you see in head of the dataframe, there are uncorrect data in \"Age_Group\" column, some Age groups written as date, becasue of that I have used unique() function to determine all the uncorrect data, then \"replace\" function to rewrite all the age groups from date to Age:"
   ]
  },
  {
   "cell_type": "code",
   "execution_count": 969,
   "id": "33db80b4",
   "metadata": {},
   "outputs": [
    {
     "data": {
      "text/plain": [
       "array(['01-Apr', 'Oct-14', '15-19', '20-24', '25-29', '30-34', '35-39',\n",
       "       '40-44', '45-49', '05-Sep', '50-54', '55-59', '60-64', '65-69',\n",
       "       '70-74', '75-79', '80-84', '85+', '<1'], dtype=object)"
      ]
     },
     "execution_count": 969,
     "metadata": {},
     "output_type": "execute_result"
    }
   ],
   "source": [
    "cancerDF.Age_Group.unique()"
   ]
  },
  {
   "cell_type": "code",
   "execution_count": 970,
   "id": "bf9336ab",
   "metadata": {},
   "outputs": [],
   "source": [
    "cancerDF['Age_Group'] = cancerDF['Age_Group'].replace(\n",
    "    ['01-Apr','05-Sep','Oct-14'],['1-4', '5-9' , '10-14'])"
   ]
  },
  {
   "cell_type": "markdown",
   "id": "99f25cf0",
   "metadata": {},
   "source": [
    "### 5. Count of People Diagnosed With Cancer shouldn't be null neither float because of that, because of that, I have used fillna(0) function to replace null value to 0 in 'Count_of_People_Diagnosed_With_Cancer' column and change the value to be integer: "
   ]
  },
  {
   "cell_type": "code",
   "execution_count": 971,
   "id": "8b0eecc9",
   "metadata": {},
   "outputs": [],
   "source": [
    "cancerDF['Count_of_People_Diagnosed_With_Cancer'] = cancerDF['Count_of_People_Diagnosed_With_Cancer'].fillna(0).astype(int)\n"
   ]
  },
  {
   "cell_type": "code",
   "execution_count": 972,
   "id": "a0eeea96",
   "metadata": {},
   "outputs": [
    {
     "name": "stdout",
     "output_type": "stream",
     "text": [
      "<class 'pandas.core.frame.DataFrame'>\n",
      "RangeIndex: 327066 entries, 0 to 327065\n",
      "Data columns (total 8 columns):\n",
      " #   Column                                        Non-Null Count   Dtype  \n",
      "---  ------                                        --------------   -----  \n",
      " 0   Age_Group                                     327066 non-null  object \n",
      " 1   Count_of_People_Diagnosed_With_Cancer         327066 non-null  int64  \n",
      " 2   Cancer_Event_Type                             327066 non-null  object \n",
      " 3   Cancer_Frequency_Based_on_Race_And_Ethnicity  327066 non-null  object \n",
      " 4   Gender                                        327066 non-null  object \n",
      " 5   Cancer_Organ_Site                             327066 non-null  object \n",
      " 6   Data_Collection_Starting_Year                 327066 non-null  int64  \n",
      " 7   Data_Collection_Ending_Year                   17214 non-null   float64\n",
      "dtypes: float64(1), int64(2), object(5)\n",
      "memory usage: 20.0+ MB\n"
     ]
    }
   ],
   "source": [
    "cancerDF.info()"
   ]
  },
  {
   "cell_type": "markdown",
   "id": "3eb6cac9",
   "metadata": {},
   "source": [
    "### 6. In the model, I focus on the group of age between 0 - 19 years old, and the dataframe contain age more than what I need.\n",
    "### so, I keep only the rows with target age:"
   ]
  },
  {
   "cell_type": "code",
   "execution_count": 973,
   "id": "608fec57",
   "metadata": {},
   "outputs": [],
   "source": [
    "cancerDF = cancerDF.loc[(cancerDF['Age_Group']  == '<1') \n",
    "                             | (cancerDF['Age_Group']  =='1-4')\n",
    "                             | (cancerDF['Age_Group']  =='5-9')\n",
    "                             | (cancerDF['Age_Group']  =='10-14')\n",
    "                             | (cancerDF['Age_Group']  =='15-19')] "
   ]
  },
  {
   "cell_type": "markdown",
   "id": "0a6a8570",
   "metadata": {},
   "source": [
    "### 7.For simplicity, I have changed column names using \"rename\" function:"
   ]
  },
  {
   "cell_type": "code",
   "execution_count": 974,
   "id": "79f15498",
   "metadata": {},
   "outputs": [],
   "source": [
    "cancerDF= cancerDF.rename(columns = {'Age_Group':'Age','Count_of_People_Diagnosed_With_Cancer':'Count',\n",
    "                                 'Cancer_Event_Type': 'Event','Cancer_Organ_Site':'Organ',\n",
    "                                'Data_Collection_Starting_Year':'S_Year',\n",
    "                                  'Cancer_Frequency_Based_on_Race_And_Ethnicity':'Race'  }) "
   ]
  },
  {
   "cell_type": "code",
   "execution_count": 975,
   "id": "fca7dfa9",
   "metadata": {},
   "outputs": [
    {
     "data": {
      "text/html": [
       "<div>\n",
       "<style scoped>\n",
       "    .dataframe tbody tr th:only-of-type {\n",
       "        vertical-align: middle;\n",
       "    }\n",
       "\n",
       "    .dataframe tbody tr th {\n",
       "        vertical-align: top;\n",
       "    }\n",
       "\n",
       "    .dataframe thead th {\n",
       "        text-align: right;\n",
       "    }\n",
       "</style>\n",
       "<table border=\"1\" class=\"dataframe\">\n",
       "  <thead>\n",
       "    <tr style=\"text-align: right;\">\n",
       "      <th></th>\n",
       "      <th>Age</th>\n",
       "      <th>Count</th>\n",
       "      <th>Event</th>\n",
       "      <th>Race</th>\n",
       "      <th>Gender</th>\n",
       "      <th>Organ</th>\n",
       "      <th>S_Year</th>\n",
       "      <th>Data_Collection_Ending_Year</th>\n",
       "    </tr>\n",
       "  </thead>\n",
       "  <tbody>\n",
       "    <tr>\n",
       "      <th>0</th>\n",
       "      <td>1-4</td>\n",
       "      <td>191</td>\n",
       "      <td>Mortality</td>\n",
       "      <td>All Races</td>\n",
       "      <td>Female</td>\n",
       "      <td>All Cancer Sites Combined</td>\n",
       "      <td>1999</td>\n",
       "      <td>NaN</td>\n",
       "    </tr>\n",
       "    <tr>\n",
       "      <th>1</th>\n",
       "      <td>10-14</td>\n",
       "      <td>227</td>\n",
       "      <td>Mortality</td>\n",
       "      <td>All Races</td>\n",
       "      <td>Female</td>\n",
       "      <td>All Cancer Sites Combined</td>\n",
       "      <td>1999</td>\n",
       "      <td>NaN</td>\n",
       "    </tr>\n",
       "    <tr>\n",
       "      <th>2</th>\n",
       "      <td>15-19</td>\n",
       "      <td>297</td>\n",
       "      <td>Mortality</td>\n",
       "      <td>All Races</td>\n",
       "      <td>Female</td>\n",
       "      <td>All Cancer Sites Combined</td>\n",
       "      <td>1999</td>\n",
       "      <td>NaN</td>\n",
       "    </tr>\n",
       "    <tr>\n",
       "      <th>9</th>\n",
       "      <td>5-9</td>\n",
       "      <td>230</td>\n",
       "      <td>Mortality</td>\n",
       "      <td>All Races</td>\n",
       "      <td>Female</td>\n",
       "      <td>All Cancer Sites Combined</td>\n",
       "      <td>1999</td>\n",
       "      <td>NaN</td>\n",
       "    </tr>\n",
       "    <tr>\n",
       "      <th>18</th>\n",
       "      <td>&lt;1</td>\n",
       "      <td>32</td>\n",
       "      <td>Mortality</td>\n",
       "      <td>All Races</td>\n",
       "      <td>Female</td>\n",
       "      <td>All Cancer Sites Combined</td>\n",
       "      <td>1999</td>\n",
       "      <td>NaN</td>\n",
       "    </tr>\n",
       "  </tbody>\n",
       "</table>\n",
       "</div>"
      ],
      "text/plain": [
       "      Age  Count      Event       Race  Gender                      Organ  \\\n",
       "0     1-4    191  Mortality  All Races  Female  All Cancer Sites Combined   \n",
       "1   10-14    227  Mortality  All Races  Female  All Cancer Sites Combined   \n",
       "2   15-19    297  Mortality  All Races  Female  All Cancer Sites Combined   \n",
       "9     5-9    230  Mortality  All Races  Female  All Cancer Sites Combined   \n",
       "18     <1     32  Mortality  All Races  Female  All Cancer Sites Combined   \n",
       "\n",
       "    S_Year  Data_Collection_Ending_Year  \n",
       "0     1999                          NaN  \n",
       "1     1999                          NaN  \n",
       "2     1999                          NaN  \n",
       "9     1999                          NaN  \n",
       "18    1999                          NaN  "
      ]
     },
     "execution_count": 975,
     "metadata": {},
     "output_type": "execute_result"
    }
   ],
   "source": [
    "cancerDF.head(5)"
   ]
  },
  {
   "cell_type": "markdown",
   "id": "645fc137",
   "metadata": {},
   "source": [
    "### 8. I whant to avoid 'All Cancer Sites Combined',from Organ column, and 0 raw from Count column because I want to focus on Each type of cancer alone :"
   ]
  },
  {
   "cell_type": "code",
   "execution_count": 976,
   "id": "0599de4b",
   "metadata": {},
   "outputs": [],
   "source": [
    "cancerDF = cancerDF.drop(cancerDF.index[cancerDF['Organ'] == 'All Cancer Sites Combined'])\n",
    "cancerDF = cancerDF.drop(cancerDF.index[cancerDF['Count'] == 0])\n",
    "cancerDF = cancerDF.drop(cancerDF.index[cancerDF['Gender'] =='Male and Female'])\n",
    "\n",
    "cancerDF.drop('Data_Collection_Ending_Year',axis='columns', inplace=True)\n"
   ]
  },
  {
   "cell_type": "code",
   "execution_count": 977,
   "id": "3a230059",
   "metadata": {},
   "outputs": [
    {
     "data": {
      "text/html": [
       "<div>\n",
       "<style scoped>\n",
       "    .dataframe tbody tr th:only-of-type {\n",
       "        vertical-align: middle;\n",
       "    }\n",
       "\n",
       "    .dataframe tbody tr th {\n",
       "        vertical-align: top;\n",
       "    }\n",
       "\n",
       "    .dataframe thead th {\n",
       "        text-align: right;\n",
       "    }\n",
       "</style>\n",
       "<table border=\"1\" class=\"dataframe\">\n",
       "  <thead>\n",
       "    <tr style=\"text-align: right;\">\n",
       "      <th></th>\n",
       "      <th>Age</th>\n",
       "      <th>Count</th>\n",
       "      <th>Event</th>\n",
       "      <th>Race</th>\n",
       "      <th>Gender</th>\n",
       "      <th>Organ</th>\n",
       "      <th>S_Year</th>\n",
       "    </tr>\n",
       "  </thead>\n",
       "  <tbody>\n",
       "    <tr>\n",
       "      <th>684</th>\n",
       "      <td>1-4</td>\n",
       "      <td>57</td>\n",
       "      <td>Mortality</td>\n",
       "      <td>All Races</td>\n",
       "      <td>Female</td>\n",
       "      <td>Brain and Other Nervous System</td>\n",
       "      <td>1999</td>\n",
       "    </tr>\n",
       "    <tr>\n",
       "      <th>685</th>\n",
       "      <td>10-14</td>\n",
       "      <td>66</td>\n",
       "      <td>Mortality</td>\n",
       "      <td>All Races</td>\n",
       "      <td>Female</td>\n",
       "      <td>Brain and Other Nervous System</td>\n",
       "      <td>1999</td>\n",
       "    </tr>\n",
       "    <tr>\n",
       "      <th>686</th>\n",
       "      <td>15-19</td>\n",
       "      <td>46</td>\n",
       "      <td>Mortality</td>\n",
       "      <td>All Races</td>\n",
       "      <td>Female</td>\n",
       "      <td>Brain and Other Nervous System</td>\n",
       "      <td>1999</td>\n",
       "    </tr>\n",
       "    <tr>\n",
       "      <th>693</th>\n",
       "      <td>5-9</td>\n",
       "      <td>88</td>\n",
       "      <td>Mortality</td>\n",
       "      <td>All Races</td>\n",
       "      <td>Female</td>\n",
       "      <td>Brain and Other Nervous System</td>\n",
       "      <td>1999</td>\n",
       "    </tr>\n",
       "    <tr>\n",
       "      <th>750</th>\n",
       "      <td>5-9</td>\n",
       "      <td>19</td>\n",
       "      <td>Mortality</td>\n",
       "      <td>Black</td>\n",
       "      <td>Female</td>\n",
       "      <td>Brain and Other Nervous System</td>\n",
       "      <td>1999</td>\n",
       "    </tr>\n",
       "    <tr>\n",
       "      <th>760</th>\n",
       "      <td>1-4</td>\n",
       "      <td>16</td>\n",
       "      <td>Mortality</td>\n",
       "      <td>Hispanic</td>\n",
       "      <td>Female</td>\n",
       "      <td>Brain and Other Nervous System</td>\n",
       "      <td>1999</td>\n",
       "    </tr>\n",
       "    <tr>\n",
       "      <th>769</th>\n",
       "      <td>5-9</td>\n",
       "      <td>17</td>\n",
       "      <td>Mortality</td>\n",
       "      <td>Hispanic</td>\n",
       "      <td>Female</td>\n",
       "      <td>Brain and Other Nervous System</td>\n",
       "      <td>1999</td>\n",
       "    </tr>\n",
       "    <tr>\n",
       "      <th>779</th>\n",
       "      <td>1-4</td>\n",
       "      <td>47</td>\n",
       "      <td>Mortality</td>\n",
       "      <td>White</td>\n",
       "      <td>Female</td>\n",
       "      <td>Brain and Other Nervous System</td>\n",
       "      <td>1999</td>\n",
       "    </tr>\n",
       "    <tr>\n",
       "      <th>780</th>\n",
       "      <td>10-14</td>\n",
       "      <td>53</td>\n",
       "      <td>Mortality</td>\n",
       "      <td>White</td>\n",
       "      <td>Female</td>\n",
       "      <td>Brain and Other Nervous System</td>\n",
       "      <td>1999</td>\n",
       "    </tr>\n",
       "    <tr>\n",
       "      <th>781</th>\n",
       "      <td>15-19</td>\n",
       "      <td>36</td>\n",
       "      <td>Mortality</td>\n",
       "      <td>White</td>\n",
       "      <td>Female</td>\n",
       "      <td>Brain and Other Nervous System</td>\n",
       "      <td>1999</td>\n",
       "    </tr>\n",
       "    <tr>\n",
       "      <th>788</th>\n",
       "      <td>5-9</td>\n",
       "      <td>64</td>\n",
       "      <td>Mortality</td>\n",
       "      <td>White</td>\n",
       "      <td>Female</td>\n",
       "      <td>Brain and Other Nervous System</td>\n",
       "      <td>1999</td>\n",
       "    </tr>\n",
       "    <tr>\n",
       "      <th>798</th>\n",
       "      <td>1-4</td>\n",
       "      <td>56</td>\n",
       "      <td>Mortality</td>\n",
       "      <td>All Races</td>\n",
       "      <td>Male</td>\n",
       "      <td>Brain and Other Nervous System</td>\n",
       "      <td>1999</td>\n",
       "    </tr>\n",
       "    <tr>\n",
       "      <th>799</th>\n",
       "      <td>10-14</td>\n",
       "      <td>58</td>\n",
       "      <td>Mortality</td>\n",
       "      <td>All Races</td>\n",
       "      <td>Male</td>\n",
       "      <td>Brain and Other Nervous System</td>\n",
       "      <td>1999</td>\n",
       "    </tr>\n",
       "    <tr>\n",
       "      <th>800</th>\n",
       "      <td>15-19</td>\n",
       "      <td>69</td>\n",
       "      <td>Mortality</td>\n",
       "      <td>All Races</td>\n",
       "      <td>Male</td>\n",
       "      <td>Brain and Other Nervous System</td>\n",
       "      <td>1999</td>\n",
       "    </tr>\n",
       "    <tr>\n",
       "      <th>807</th>\n",
       "      <td>5-9</td>\n",
       "      <td>96</td>\n",
       "      <td>Mortality</td>\n",
       "      <td>All Races</td>\n",
       "      <td>Male</td>\n",
       "      <td>Brain and Other Nervous System</td>\n",
       "      <td>1999</td>\n",
       "    </tr>\n",
       "  </tbody>\n",
       "</table>\n",
       "</div>"
      ],
      "text/plain": [
       "       Age  Count      Event       Race  Gender  \\\n",
       "684    1-4     57  Mortality  All Races  Female   \n",
       "685  10-14     66  Mortality  All Races  Female   \n",
       "686  15-19     46  Mortality  All Races  Female   \n",
       "693    5-9     88  Mortality  All Races  Female   \n",
       "750    5-9     19  Mortality      Black  Female   \n",
       "760    1-4     16  Mortality   Hispanic  Female   \n",
       "769    5-9     17  Mortality   Hispanic  Female   \n",
       "779    1-4     47  Mortality      White  Female   \n",
       "780  10-14     53  Mortality      White  Female   \n",
       "781  15-19     36  Mortality      White  Female   \n",
       "788    5-9     64  Mortality      White  Female   \n",
       "798    1-4     56  Mortality  All Races    Male   \n",
       "799  10-14     58  Mortality  All Races    Male   \n",
       "800  15-19     69  Mortality  All Races    Male   \n",
       "807    5-9     96  Mortality  All Races    Male   \n",
       "\n",
       "                              Organ  S_Year  \n",
       "684  Brain and Other Nervous System    1999  \n",
       "685  Brain and Other Nervous System    1999  \n",
       "686  Brain and Other Nervous System    1999  \n",
       "693  Brain and Other Nervous System    1999  \n",
       "750  Brain and Other Nervous System    1999  \n",
       "760  Brain and Other Nervous System    1999  \n",
       "769  Brain and Other Nervous System    1999  \n",
       "779  Brain and Other Nervous System    1999  \n",
       "780  Brain and Other Nervous System    1999  \n",
       "781  Brain and Other Nervous System    1999  \n",
       "788  Brain and Other Nervous System    1999  \n",
       "798  Brain and Other Nervous System    1999  \n",
       "799  Brain and Other Nervous System    1999  \n",
       "800  Brain and Other Nervous System    1999  \n",
       "807  Brain and Other Nervous System    1999  "
      ]
     },
     "execution_count": 977,
     "metadata": {},
     "output_type": "execute_result"
    }
   ],
   "source": [
    "cancerDF.head(15)"
   ]
  },
  {
   "cell_type": "markdown",
   "id": "19d1e6e9",
   "metadata": {},
   "source": [
    "### 9. check all type of cancer from datafram"
   ]
  },
  {
   "cell_type": "code",
   "execution_count": 978,
   "id": "0d36376e",
   "metadata": {},
   "outputs": [
    {
     "data": {
      "text/plain": [
       "array(['Brain and Other Nervous System', 'Cervix', 'Colon and Rectum',\n",
       "       'Female Breast', 'Hodgkin Lymphoma', 'Kidney and Renal Pelvis',\n",
       "       'Leukemias', 'Liver and Intrahepatic Bile Duct',\n",
       "       'Lung and Bronchus', 'Melanomas of the Skin',\n",
       "       'Non-Hodgkin Lymphoma', 'Oral Cavity and Pharynx', 'Ovary',\n",
       "       'Testis', 'Thyroid', 'Urinary Bladder', 'Corpus and Uterus, NOS',\n",
       "       'Pancreas', 'Stomach'], dtype=object)"
      ]
     },
     "execution_count": 978,
     "metadata": {},
     "output_type": "execute_result"
    }
   ],
   "source": [
    "cancerDF.Organ.unique()"
   ]
  },
  {
   "cell_type": "markdown",
   "id": "b9cc7932",
   "metadata": {},
   "source": [
    "### check which type of cancer is the most common??"
   ]
  },
  {
   "cell_type": "code",
   "execution_count": 979,
   "id": "58a27f73",
   "metadata": {},
   "outputs": [
    {
     "data": {
      "text/plain": [
       "Leukemias                           1299\n",
       "Brain and Other Nervous System      1127\n",
       "Non-Hodgkin Lymphoma                 561\n",
       "Kidney and Renal Pelvis              417\n",
       "Hodgkin Lymphoma                     385\n",
       "Thyroid                              252\n",
       "Liver and Intrahepatic Bile Duct     217\n",
       "Melanomas of the Skin                194\n",
       "Ovary                                166\n",
       "Oral Cavity and Pharynx              162\n",
       "Testis                               151\n",
       "Colon and Rectum                     111\n",
       "Lung and Bronchus                     35\n",
       "Cervix                                20\n",
       "Pancreas                              15\n",
       "Female Breast                         14\n",
       "Urinary Bladder                       13\n",
       "Stomach                                4\n",
       "Corpus and Uterus, NOS                 2\n",
       "Name: Organ, dtype: int64"
      ]
     },
     "execution_count": 979,
     "metadata": {},
     "output_type": "execute_result"
    }
   ],
   "source": [
    "cancerDF.Organ.value_counts()"
   ]
  },
  {
   "cell_type": "code",
   "execution_count": null,
   "id": "b90bf29d",
   "metadata": {},
   "outputs": [],
   "source": []
  },
  {
   "cell_type": "markdown",
   "id": "61ac636f",
   "metadata": {},
   "source": [
    "### Now, I have used seborn to check the relations between the fetuers in the dataframe:"
   ]
  },
  {
   "cell_type": "code",
   "execution_count": 980,
   "id": "7c429117",
   "metadata": {},
   "outputs": [
    {
     "data": {
      "text/plain": [
       "<AxesSubplot:xlabel='Count', ylabel='Organ'>"
      ]
     },
     "execution_count": 980,
     "metadata": {},
     "output_type": "execute_result"
    },
    {
     "data": {
      "image/png": "[encoded data removed]",
      "text/plain": [
       "<Figure size 432x288 with 1 Axes>"
      ]
     },
     "metadata": {
      "needs_background": "light"
     },
     "output_type": "display_data"
    }
   ],
   "source": [
    "sns.boxplot(x=  'Count', y= 'Organ', data = cancerDF ,palette =\"pastel\", )"
   ]
  },
  {
   "cell_type": "markdown",
   "id": "e99b6dee",
   "metadata": {},
   "source": [
    "### we can see that number of death from Leukemias is the most"
   ]
  },
  {
   "cell_type": "code",
   "execution_count": 981,
   "id": "5ed07707",
   "metadata": {},
   "outputs": [
    {
     "data": {
      "image/png": "[encoded data removed]",
      "text/plain": [
       "<Figure size 432x288 with 1 Axes>"
      ]
     },
     "metadata": {
      "needs_background": "light"
     },
     "output_type": "display_data"
    }
   ],
   "source": [
    "sns.histplot(cancerDF['S_Year'],bins=10 ,color ='green');\n"
   ]
  },
  {
   "cell_type": "code",
   "execution_count": 982,
   "id": "2d408612",
   "metadata": {},
   "outputs": [
    {
     "data": {
      "image/png": "[encoded data removed]",
      "text/plain": [
       "<Figure size 432x288 with 1 Axes>"
      ]
     },
     "metadata": {
      "needs_background": "light"
     },
     "output_type": "display_data"
    }
   ],
   "source": [
    "sns.barplot(data=cancerDF, x='Age', y= 'Count', order =['<1','1-4','5-9','10-14','15-19'], palette=\"Set2\");"
   ]
  },
  {
   "cell_type": "markdown",
   "id": "b1b9330e",
   "metadata": {},
   "source": [
    "### Most incedence at age 1- 4"
   ]
  },
  {
   "cell_type": "markdown",
   "id": "221cd9fd",
   "metadata": {},
   "source": [
    "### before start build model.. I use dummies to "
   ]
  },
  {
   "cell_type": "code",
   "execution_count": 983,
   "id": "5bd825f3",
   "metadata": {},
   "outputs": [],
   "source": [
    "cancerDF= pd.get_dummies(cancerDF, columns =['Gender','Age','Event'],drop_first =True)"
   ]
  },
  {
   "cell_type": "code",
   "execution_count": 1000,
   "id": "d41cd6b0",
   "metadata": {},
   "outputs": [
    {
     "data": {
      "text/html": [
       "<div>\n",
       "<style scoped>\n",
       "    .dataframe tbody tr th:only-of-type {\n",
       "        vertical-align: middle;\n",
       "    }\n",
       "\n",
       "    .dataframe tbody tr th {\n",
       "        vertical-align: top;\n",
       "    }\n",
       "\n",
       "    .dataframe thead th {\n",
       "        text-align: right;\n",
       "    }\n",
       "</style>\n",
       "<table border=\"1\" class=\"dataframe\">\n",
       "  <thead>\n",
       "    <tr style=\"text-align: right;\">\n",
       "      <th></th>\n",
       "      <th>Count</th>\n",
       "      <th>Race</th>\n",
       "      <th>Organ</th>\n",
       "      <th>S_Year</th>\n",
       "      <th>Gender_Male</th>\n",
       "      <th>Age_10-14</th>\n",
       "      <th>Age_15-19</th>\n",
       "      <th>Age_5-9</th>\n",
       "      <th>Age_&lt;1</th>\n",
       "      <th>Event_Mortality</th>\n",
       "    </tr>\n",
       "  </thead>\n",
       "  <tbody>\n",
       "    <tr>\n",
       "      <th>684</th>\n",
       "      <td>57</td>\n",
       "      <td>All Races</td>\n",
       "      <td>Brain and Other Nervous System</td>\n",
       "      <td>1999</td>\n",
       "      <td>0</td>\n",
       "      <td>0</td>\n",
       "      <td>0</td>\n",
       "      <td>0</td>\n",
       "      <td>0</td>\n",
       "      <td>1</td>\n",
       "    </tr>\n",
       "    <tr>\n",
       "      <th>685</th>\n",
       "      <td>66</td>\n",
       "      <td>All Races</td>\n",
       "      <td>Brain and Other Nervous System</td>\n",
       "      <td>1999</td>\n",
       "      <td>0</td>\n",
       "      <td>1</td>\n",
       "      <td>0</td>\n",
       "      <td>0</td>\n",
       "      <td>0</td>\n",
       "      <td>1</td>\n",
       "    </tr>\n",
       "    <tr>\n",
       "      <th>686</th>\n",
       "      <td>46</td>\n",
       "      <td>All Races</td>\n",
       "      <td>Brain and Other Nervous System</td>\n",
       "      <td>1999</td>\n",
       "      <td>0</td>\n",
       "      <td>0</td>\n",
       "      <td>1</td>\n",
       "      <td>0</td>\n",
       "      <td>0</td>\n",
       "      <td>1</td>\n",
       "    </tr>\n",
       "    <tr>\n",
       "      <th>693</th>\n",
       "      <td>88</td>\n",
       "      <td>All Races</td>\n",
       "      <td>Brain and Other Nervous System</td>\n",
       "      <td>1999</td>\n",
       "      <td>0</td>\n",
       "      <td>0</td>\n",
       "      <td>0</td>\n",
       "      <td>1</td>\n",
       "      <td>0</td>\n",
       "      <td>1</td>\n",
       "    </tr>\n",
       "    <tr>\n",
       "      <th>750</th>\n",
       "      <td>19</td>\n",
       "      <td>Black</td>\n",
       "      <td>Brain and Other Nervous System</td>\n",
       "      <td>1999</td>\n",
       "      <td>0</td>\n",
       "      <td>0</td>\n",
       "      <td>0</td>\n",
       "      <td>1</td>\n",
       "      <td>0</td>\n",
       "      <td>1</td>\n",
       "    </tr>\n",
       "    <tr>\n",
       "      <th>...</th>\n",
       "      <td>...</td>\n",
       "      <td>...</td>\n",
       "      <td>...</td>\n",
       "      <td>...</td>\n",
       "      <td>...</td>\n",
       "      <td>...</td>\n",
       "      <td>...</td>\n",
       "      <td>...</td>\n",
       "      <td>...</td>\n",
       "      <td>...</td>\n",
       "    </tr>\n",
       "    <tr>\n",
       "      <th>326155</th>\n",
       "      <td>40</td>\n",
       "      <td>All Races</td>\n",
       "      <td>Thyroid</td>\n",
       "      <td>2016</td>\n",
       "      <td>1</td>\n",
       "      <td>1</td>\n",
       "      <td>0</td>\n",
       "      <td>0</td>\n",
       "      <td>0</td>\n",
       "      <td>0</td>\n",
       "    </tr>\n",
       "    <tr>\n",
       "      <th>326156</th>\n",
       "      <td>119</td>\n",
       "      <td>All Races</td>\n",
       "      <td>Thyroid</td>\n",
       "      <td>2016</td>\n",
       "      <td>1</td>\n",
       "      <td>0</td>\n",
       "      <td>1</td>\n",
       "      <td>0</td>\n",
       "      <td>0</td>\n",
       "      <td>0</td>\n",
       "    </tr>\n",
       "    <tr>\n",
       "      <th>326232</th>\n",
       "      <td>22</td>\n",
       "      <td>Hispanic</td>\n",
       "      <td>Thyroid</td>\n",
       "      <td>2016</td>\n",
       "      <td>1</td>\n",
       "      <td>0</td>\n",
       "      <td>1</td>\n",
       "      <td>0</td>\n",
       "      <td>0</td>\n",
       "      <td>0</td>\n",
       "    </tr>\n",
       "    <tr>\n",
       "      <th>326250</th>\n",
       "      <td>28</td>\n",
       "      <td>White</td>\n",
       "      <td>Thyroid</td>\n",
       "      <td>2016</td>\n",
       "      <td>1</td>\n",
       "      <td>1</td>\n",
       "      <td>0</td>\n",
       "      <td>0</td>\n",
       "      <td>0</td>\n",
       "      <td>0</td>\n",
       "    </tr>\n",
       "    <tr>\n",
       "      <th>326251</th>\n",
       "      <td>91</td>\n",
       "      <td>White</td>\n",
       "      <td>Thyroid</td>\n",
       "      <td>2016</td>\n",
       "      <td>1</td>\n",
       "      <td>0</td>\n",
       "      <td>1</td>\n",
       "      <td>0</td>\n",
       "      <td>0</td>\n",
       "      <td>0</td>\n",
       "    </tr>\n",
       "  </tbody>\n",
       "</table>\n",
       "<p>5145 rows × 10 columns</p>\n",
       "</div>"
      ],
      "text/plain": [
       "        Count       Race                           Organ  S_Year  Gender_Male  \\\n",
       "684        57  All Races  Brain and Other Nervous System    1999            0   \n",
       "685        66  All Races  Brain and Other Nervous System    1999            0   \n",
       "686        46  All Races  Brain and Other Nervous System    1999            0   \n",
       "693        88  All Races  Brain and Other Nervous System    1999            0   \n",
       "750        19      Black  Brain and Other Nervous System    1999            0   \n",
       "...       ...        ...                             ...     ...          ...   \n",
       "326155     40  All Races                         Thyroid    2016            1   \n",
       "326156    119  All Races                         Thyroid    2016            1   \n",
       "326232     22   Hispanic                         Thyroid    2016            1   \n",
       "326250     28      White                         Thyroid    2016            1   \n",
       "326251     91      White                         Thyroid    2016            1   \n",
       "\n",
       "        Age_10-14  Age_15-19  Age_5-9  Age_<1  Event_Mortality  \n",
       "684             0          0        0       0                1  \n",
       "685             1          0        0       0                1  \n",
       "686             0          1        0       0                1  \n",
       "693             0          0        1       0                1  \n",
       "750             0          0        1       0                1  \n",
       "...           ...        ...      ...     ...              ...  \n",
       "326155          1          0        0       0                0  \n",
       "326156          0          1        0       0                0  \n",
       "326232          0          1        0       0                0  \n",
       "326250          1          0        0       0                0  \n",
       "326251          0          1        0       0                0  \n",
       "\n",
       "[5145 rows x 10 columns]"
      ]
     },
     "execution_count": 1000,
     "metadata": {},
     "output_type": "execute_result"
    }
   ],
   "source": [
    "cancerDF"
   ]
  },
  {
   "cell_type": "code",
   "execution_count": 1001,
   "id": "7df37132",
   "metadata": {},
   "outputs": [
    {
     "data": {
      "text/html": [
       "<div>\n",
       "<style scoped>\n",
       "    .dataframe tbody tr th:only-of-type {\n",
       "        vertical-align: middle;\n",
       "    }\n",
       "\n",
       "    .dataframe tbody tr th {\n",
       "        vertical-align: top;\n",
       "    }\n",
       "\n",
       "    .dataframe thead th {\n",
       "        text-align: right;\n",
       "    }\n",
       "</style>\n",
       "<table border=\"1\" class=\"dataframe\">\n",
       "  <thead>\n",
       "    <tr style=\"text-align: right;\">\n",
       "      <th></th>\n",
       "      <th>Count</th>\n",
       "      <th>S_Year</th>\n",
       "      <th>Gender_Male</th>\n",
       "      <th>Age_10-14</th>\n",
       "      <th>Age_15-19</th>\n",
       "      <th>Age_5-9</th>\n",
       "      <th>Age_&lt;1</th>\n",
       "      <th>Event_Mortality</th>\n",
       "    </tr>\n",
       "  </thead>\n",
       "  <tbody>\n",
       "    <tr>\n",
       "      <th>Count</th>\n",
       "      <td>1.000000</td>\n",
       "      <td>0.076003</td>\n",
       "      <td>0.033811</td>\n",
       "      <td>-0.053041</td>\n",
       "      <td>0.036415</td>\n",
       "      <td>-0.003679</td>\n",
       "      <td>-0.095139</td>\n",
       "      <td>-0.137360</td>\n",
       "    </tr>\n",
       "    <tr>\n",
       "      <th>S_Year</th>\n",
       "      <td>0.076003</td>\n",
       "      <td>1.000000</td>\n",
       "      <td>-0.011237</td>\n",
       "      <td>0.007122</td>\n",
       "      <td>-0.010107</td>\n",
       "      <td>0.010745</td>\n",
       "      <td>0.000652</td>\n",
       "      <td>-0.023122</td>\n",
       "    </tr>\n",
       "    <tr>\n",
       "      <th>Gender_Male</th>\n",
       "      <td>0.033811</td>\n",
       "      <td>-0.011237</td>\n",
       "      <td>1.000000</td>\n",
       "      <td>-0.009112</td>\n",
       "      <td>-0.021800</td>\n",
       "      <td>-0.004273</td>\n",
       "      <td>0.014938</td>\n",
       "      <td>0.034972</td>\n",
       "    </tr>\n",
       "    <tr>\n",
       "      <th>Age_10-14</th>\n",
       "      <td>-0.053041</td>\n",
       "      <td>0.007122</td>\n",
       "      <td>-0.009112</td>\n",
       "      <td>1.000000</td>\n",
       "      <td>-0.369147</td>\n",
       "      <td>-0.271409</td>\n",
       "      <td>-0.165988</td>\n",
       "      <td>-0.002138</td>\n",
       "    </tr>\n",
       "    <tr>\n",
       "      <th>Age_15-19</th>\n",
       "      <td>0.036415</td>\n",
       "      <td>-0.010107</td>\n",
       "      <td>-0.021800</td>\n",
       "      <td>-0.369147</td>\n",
       "      <td>1.000000</td>\n",
       "      <td>-0.324071</td>\n",
       "      <td>-0.198195</td>\n",
       "      <td>-0.023017</td>\n",
       "    </tr>\n",
       "    <tr>\n",
       "      <th>Age_5-9</th>\n",
       "      <td>-0.003679</td>\n",
       "      <td>0.010745</td>\n",
       "      <td>-0.004273</td>\n",
       "      <td>-0.271409</td>\n",
       "      <td>-0.324071</td>\n",
       "      <td>1.000000</td>\n",
       "      <td>-0.145720</td>\n",
       "      <td>0.065321</td>\n",
       "    </tr>\n",
       "    <tr>\n",
       "      <th>Age_&lt;1</th>\n",
       "      <td>-0.095139</td>\n",
       "      <td>0.000652</td>\n",
       "      <td>0.014938</td>\n",
       "      <td>-0.165988</td>\n",
       "      <td>-0.198195</td>\n",
       "      <td>-0.145720</td>\n",
       "      <td>1.000000</td>\n",
       "      <td>-0.105748</td>\n",
       "    </tr>\n",
       "    <tr>\n",
       "      <th>Event_Mortality</th>\n",
       "      <td>-0.137360</td>\n",
       "      <td>-0.023122</td>\n",
       "      <td>0.034972</td>\n",
       "      <td>-0.002138</td>\n",
       "      <td>-0.023017</td>\n",
       "      <td>0.065321</td>\n",
       "      <td>-0.105748</td>\n",
       "      <td>1.000000</td>\n",
       "    </tr>\n",
       "  </tbody>\n",
       "</table>\n",
       "</div>"
      ],
      "text/plain": [
       "                    Count    S_Year  Gender_Male  Age_10-14  Age_15-19  \\\n",
       "Count            1.000000  0.076003     0.033811  -0.053041   0.036415   \n",
       "S_Year           0.076003  1.000000    -0.011237   0.007122  -0.010107   \n",
       "Gender_Male      0.033811 -0.011237     1.000000  -0.009112  -0.021800   \n",
       "Age_10-14       -0.053041  0.007122    -0.009112   1.000000  -0.369147   \n",
       "Age_15-19        0.036415 -0.010107    -0.021800  -0.369147   1.000000   \n",
       "Age_5-9         -0.003679  0.010745    -0.004273  -0.271409  -0.324071   \n",
       "Age_<1          -0.095139  0.000652     0.014938  -0.165988  -0.198195   \n",
       "Event_Mortality -0.137360 -0.023122     0.034972  -0.002138  -0.023017   \n",
       "\n",
       "                  Age_5-9    Age_<1  Event_Mortality  \n",
       "Count           -0.003679 -0.095139        -0.137360  \n",
       "S_Year           0.010745  0.000652        -0.023122  \n",
       "Gender_Male     -0.004273  0.014938         0.034972  \n",
       "Age_10-14       -0.271409 -0.165988        -0.002138  \n",
       "Age_15-19       -0.324071 -0.198195        -0.023017  \n",
       "Age_5-9          1.000000 -0.145720         0.065321  \n",
       "Age_<1          -0.145720  1.000000        -0.105748  \n",
       "Event_Mortality  0.065321 -0.105748         1.000000  "
      ]
     },
     "execution_count": 1001,
     "metadata": {},
     "output_type": "execute_result"
    }
   ],
   "source": [
    "cancerDF.corr()"
   ]
  },
  {
   "cell_type": "code",
   "execution_count": 1002,
   "id": "e371c2fd",
   "metadata": {},
   "outputs": [
    {
     "data": {
      "text/plain": [
       "Text(0.5, 1.0, 'cancerDF.corr()')"
      ]
     },
     "execution_count": 1002,
     "metadata": {},
     "output_type": "execute_result"
    },
    {
     "data": {
      "image/png": "[encoded data removed]",
      "text/plain": [
       "<Figure size 432x288 with 2 Axes>"
      ]
     },
     "metadata": {
      "needs_background": "light"
     },
     "output_type": "display_data"
    }
   ],
   "source": [
    "sns.heatmap(cancerDF.corr(), cmap='cool');\n",
    "plt.title ('cancerDF.corr()')"
   ]
  },
  {
   "cell_type": "code",
   "execution_count": 1018,
   "id": "bd778137",
   "metadata": {},
   "outputs": [
    {
     "data": {
      "text/plain": [
       "Organ                             Event_Mortality\n",
       "Brain and Other Nervous System    0                  1967\n",
       "                                  1                   507\n",
       "Cervix                            0                    41\n",
       "Colon and Rectum                  0                   547\n",
       "Corpus and Uterus, NOS            0                    40\n",
       "Female Breast                     0                    72\n",
       "Hodgkin Lymphoma                  0                  1673\n",
       "                                  1                    20\n",
       "Kidney and Renal Pelvis           0                   837\n",
       "                                  1                    37\n",
       "Leukemias                         0                  3742\n",
       "                                  1                   476\n",
       "Liver and Intrahepatic Bile Duct  0                   318\n",
       "                                  1                    58\n",
       "Lung and Bronchus                 0                    74\n",
       "Melanomas of the Skin             0                   617\n",
       "Non-Hodgkin Lymphoma              0                  1370\n",
       "                                  1                    95\n",
       "Oral Cavity and Pharynx           0                   254\n",
       "Ovary                             0                   701\n",
       "                                  1                    32\n",
       "Pancreas                          0                    88\n",
       "Stomach                           0                    35\n",
       "Testis                            0                  1990\n",
       "                                  1                    33\n",
       "Thyroid                           0                  2688\n",
       "Urinary Bladder                   0                    58\n",
       "Name: Count, dtype: int64"
      ]
     },
     "execution_count": 1018,
     "metadata": {},
     "output_type": "execute_result"
    }
   ],
   "source": [
    "cancerDF.groupby(['Organ','Event_Mortality'])['Count'].max()"
   ]
  },
  {
   "cell_type": "code",
   "execution_count": 1030,
   "id": "5fbf9376",
   "metadata": {},
   "outputs": [
    {
     "ename": "AttributeError",
     "evalue": "'list' object has no attribute 'max'",
     "output_type": "error",
     "traceback": [
      "\u001b[0;31m---------------------------------------------------------------------------\u001b[0m",
      "\u001b[0;31mAttributeError\u001b[0m                            Traceback (most recent call last)",
      "\u001b[0;32m<ipython-input-1030-b1773d79c805>\u001b[0m in \u001b[0;36m<module>\u001b[0;34m\u001b[0m\n\u001b[0;32m----> 1\u001b[0;31m \u001b[0mX\u001b[0m \u001b[0;34m=\u001b[0m \u001b[0mcancerDF\u001b[0m\u001b[0;34m[\u001b[0m\u001b[0;34m[\u001b[0m\u001b[0;34m[\u001b[0m\u001b[0;34m'Count'\u001b[0m\u001b[0;34m]\u001b[0m\u001b[0;34m.\u001b[0m\u001b[0mmax\u001b[0m\u001b[0;34m(\u001b[0m\u001b[0;34m)\u001b[0m\u001b[0;34m,\u001b[0m\u001b[0;34m'Event_Mortality'\u001b[0m\u001b[0;34m]\u001b[0m\u001b[0;34m]\u001b[0m\u001b[0;34m\u001b[0m\u001b[0;34m\u001b[0m\u001b[0m\n\u001b[0m\u001b[1;32m      2\u001b[0m \u001b[0my\u001b[0m \u001b[0;34m=\u001b[0m \u001b[0mcancerDF\u001b[0m\u001b[0;34m[\u001b[0m\u001b[0;34m[\u001b[0m\u001b[0;34m'Organ'\u001b[0m\u001b[0;34m]\u001b[0m\u001b[0;34m]\u001b[0m\u001b[0;34m\u001b[0m\u001b[0;34m\u001b[0m\u001b[0m\n",
      "\u001b[0;31mAttributeError\u001b[0m: 'list' object has no attribute 'max'"
     ]
    }
   ],
   "source": [
    "X = cancerDF[[['Count'].max(),'Event_Mortality']]\n",
    "y = cancerDF[['Organ']]"
   ]
  },
  {
   "cell_type": "code",
   "execution_count": null,
   "id": "100194da",
   "metadata": {},
   "outputs": [],
   "source": []
  },
  {
   "cell_type": "code",
   "execution_count": 1020,
   "id": "bf859449",
   "metadata": {},
   "outputs": [],
   "source": [
    "X_train = cancerDF.drop('Organ', axis=1)\n",
    "y_train = cancerDF.Organ"
   ]
  },
  {
   "cell_type": "code",
   "execution_count": 1021,
   "id": "50567ac3",
   "metadata": {},
   "outputs": [],
   "source": [
    "X_train, X_test, y_train, y_test = train_test_split(X, y, test_size=0.33, random_state=230)"
   ]
  },
  {
   "cell_type": "code",
   "execution_count": 1022,
   "id": "53f4f27f",
   "metadata": {},
   "outputs": [],
   "source": [
    "sc =StandardScaler()"
   ]
  },
  {
   "cell_type": "code",
   "execution_count": 1023,
   "id": "c4c969ff",
   "metadata": {},
   "outputs": [],
   "source": [
    "X_sc = sc.fit_transform(X_train)\n",
    "y_sc = sc.transform(X_test)"
   ]
  },
  {
   "cell_type": "code",
   "execution_count": null,
   "id": "1d18d03f",
   "metadata": {},
   "outputs": [],
   "source": []
  },
  {
   "cell_type": "code",
   "execution_count": 1024,
   "id": "c17d3377",
   "metadata": {},
   "outputs": [
    {
     "name": "stderr",
     "output_type": "stream",
     "text": [
      "/Users/reemyousef/opt/anaconda3/lib/python3.8/site-packages/sklearn/utils/validation.py:63: DataConversionWarning: A column-vector y was passed when a 1d array was expected. Please change the shape of y to (n_samples, ), for example using ravel().\n",
      "  return f(*args, **kwargs)\n",
      "/Users/reemyousef/opt/anaconda3/lib/python3.8/site-packages/sklearn/linear_model/_logistic.py:763: ConvergenceWarning: lbfgs failed to converge (status=1):\n",
      "STOP: TOTAL NO. of ITERATIONS REACHED LIMIT.\n",
      "\n",
      "Increase the number of iterations (max_iter) or scale the data as shown in:\n",
      "    https://scikit-learn.org/stable/modules/preprocessing.html\n",
      "Please also refer to the documentation for alternative solver options:\n",
      "    https://scikit-learn.org/stable/modules/linear_model.html#logistic-regression\n",
      "  n_iter_i = _check_optimize_result(\n"
     ]
    },
    {
     "data": {
      "text/plain": [
       "LogisticRegression()"
      ]
     },
     "execution_count": 1024,
     "metadata": {},
     "output_type": "execute_result"
    }
   ],
   "source": [
    "logmodel = LogisticRegression()\n",
    "logmodel.fit(X_train,y_train)"
   ]
  },
  {
   "cell_type": "code",
   "execution_count": 1025,
   "id": "d1edac60",
   "metadata": {},
   "outputs": [],
   "source": [
    "predictions = logmodel.predict(X_test)"
   ]
  },
  {
   "cell_type": "code",
   "execution_count": null,
   "id": "92c81543",
   "metadata": {},
   "outputs": [],
   "source": []
  },
  {
   "cell_type": "code",
   "execution_count": 1026,
   "id": "ba372c50",
   "metadata": {},
   "outputs": [],
   "source": [
    "knn = KNeighborsClassifier(n_neighbors=7)"
   ]
  },
  {
   "cell_type": "markdown",
   "id": "60376c55",
   "metadata": {},
   "source": [
    "##### knn.fit(X_train, y_train)"
   ]
  },
  {
   "cell_type": "code",
   "execution_count": 1027,
   "id": "e8ce1eaf",
   "metadata": {},
   "outputs": [
    {
     "ename": "NotFittedError",
     "evalue": "This KNeighborsClassifier instance is not fitted yet. Call 'fit' with appropriate arguments before using this estimator.",
     "output_type": "error",
     "traceback": [
      "\u001b[0;31m---------------------------------------------------------------------------\u001b[0m",
      "\u001b[0;31mNotFittedError\u001b[0m                            Traceback (most recent call last)",
      "\u001b[0;32m<ipython-input-1027-08dc72747141>\u001b[0m in \u001b[0;36m<module>\u001b[0;34m\u001b[0m\n\u001b[0;32m----> 1\u001b[0;31m \u001b[0my_pred\u001b[0m \u001b[0;34m=\u001b[0m \u001b[0mknn\u001b[0m\u001b[0;34m.\u001b[0m\u001b[0mpredict\u001b[0m\u001b[0;34m(\u001b[0m\u001b[0mX_test\u001b[0m\u001b[0;34m)\u001b[0m\u001b[0;34m\u001b[0m\u001b[0;34m\u001b[0m\u001b[0m\n\u001b[0m",
      "\u001b[0;32m~/opt/anaconda3/lib/python3.8/site-packages/sklearn/neighbors/_classification.py\u001b[0m in \u001b[0;36mpredict\u001b[0;34m(self, X)\u001b[0m\n\u001b[1;32m    195\u001b[0m         \u001b[0mX\u001b[0m \u001b[0;34m=\u001b[0m \u001b[0mcheck_array\u001b[0m\u001b[0;34m(\u001b[0m\u001b[0mX\u001b[0m\u001b[0;34m,\u001b[0m \u001b[0maccept_sparse\u001b[0m\u001b[0;34m=\u001b[0m\u001b[0;34m'csr'\u001b[0m\u001b[0;34m)\u001b[0m\u001b[0;34m\u001b[0m\u001b[0;34m\u001b[0m\u001b[0m\n\u001b[1;32m    196\u001b[0m \u001b[0;34m\u001b[0m\u001b[0m\n\u001b[0;32m--> 197\u001b[0;31m         \u001b[0mneigh_dist\u001b[0m\u001b[0;34m,\u001b[0m \u001b[0mneigh_ind\u001b[0m \u001b[0;34m=\u001b[0m \u001b[0mself\u001b[0m\u001b[0;34m.\u001b[0m\u001b[0mkneighbors\u001b[0m\u001b[0;34m(\u001b[0m\u001b[0mX\u001b[0m\u001b[0;34m)\u001b[0m\u001b[0;34m\u001b[0m\u001b[0;34m\u001b[0m\u001b[0m\n\u001b[0m\u001b[1;32m    198\u001b[0m         \u001b[0mclasses_\u001b[0m \u001b[0;34m=\u001b[0m \u001b[0mself\u001b[0m\u001b[0;34m.\u001b[0m\u001b[0mclasses_\u001b[0m\u001b[0;34m\u001b[0m\u001b[0;34m\u001b[0m\u001b[0m\n\u001b[1;32m    199\u001b[0m         \u001b[0m_y\u001b[0m \u001b[0;34m=\u001b[0m \u001b[0mself\u001b[0m\u001b[0;34m.\u001b[0m\u001b[0m_y\u001b[0m\u001b[0;34m\u001b[0m\u001b[0;34m\u001b[0m\u001b[0m\n",
      "\u001b[0;32m~/opt/anaconda3/lib/python3.8/site-packages/sklearn/neighbors/_base.py\u001b[0m in \u001b[0;36mkneighbors\u001b[0;34m(self, X, n_neighbors, return_distance)\u001b[0m\n\u001b[1;32m    647\u001b[0m                [2]]...)\n\u001b[1;32m    648\u001b[0m         \"\"\"\n\u001b[0;32m--> 649\u001b[0;31m         \u001b[0mcheck_is_fitted\u001b[0m\u001b[0;34m(\u001b[0m\u001b[0mself\u001b[0m\u001b[0;34m)\u001b[0m\u001b[0;34m\u001b[0m\u001b[0;34m\u001b[0m\u001b[0m\n\u001b[0m\u001b[1;32m    650\u001b[0m \u001b[0;34m\u001b[0m\u001b[0m\n\u001b[1;32m    651\u001b[0m         \u001b[0;32mif\u001b[0m \u001b[0mn_neighbors\u001b[0m \u001b[0;32mis\u001b[0m \u001b[0;32mNone\u001b[0m\u001b[0;34m:\u001b[0m\u001b[0;34m\u001b[0m\u001b[0;34m\u001b[0m\u001b[0m\n",
      "\u001b[0;32m~/opt/anaconda3/lib/python3.8/site-packages/sklearn/utils/validation.py\u001b[0m in \u001b[0;36minner_f\u001b[0;34m(*args, **kwargs)\u001b[0m\n\u001b[1;32m     61\u001b[0m             \u001b[0mextra_args\u001b[0m \u001b[0;34m=\u001b[0m \u001b[0mlen\u001b[0m\u001b[0;34m(\u001b[0m\u001b[0margs\u001b[0m\u001b[0;34m)\u001b[0m \u001b[0;34m-\u001b[0m \u001b[0mlen\u001b[0m\u001b[0;34m(\u001b[0m\u001b[0mall_args\u001b[0m\u001b[0;34m)\u001b[0m\u001b[0;34m\u001b[0m\u001b[0;34m\u001b[0m\u001b[0m\n\u001b[1;32m     62\u001b[0m             \u001b[0;32mif\u001b[0m \u001b[0mextra_args\u001b[0m \u001b[0;34m<=\u001b[0m \u001b[0;36m0\u001b[0m\u001b[0;34m:\u001b[0m\u001b[0;34m\u001b[0m\u001b[0;34m\u001b[0m\u001b[0m\n\u001b[0;32m---> 63\u001b[0;31m                 \u001b[0;32mreturn\u001b[0m \u001b[0mf\u001b[0m\u001b[0;34m(\u001b[0m\u001b[0;34m*\u001b[0m\u001b[0margs\u001b[0m\u001b[0;34m,\u001b[0m \u001b[0;34m**\u001b[0m\u001b[0mkwargs\u001b[0m\u001b[0;34m)\u001b[0m\u001b[0;34m\u001b[0m\u001b[0;34m\u001b[0m\u001b[0m\n\u001b[0m\u001b[1;32m     64\u001b[0m \u001b[0;34m\u001b[0m\u001b[0m\n\u001b[1;32m     65\u001b[0m             \u001b[0;31m# extra_args > 0\u001b[0m\u001b[0;34m\u001b[0m\u001b[0;34m\u001b[0m\u001b[0;34m\u001b[0m\u001b[0m\n",
      "\u001b[0;32m~/opt/anaconda3/lib/python3.8/site-packages/sklearn/utils/validation.py\u001b[0m in \u001b[0;36mcheck_is_fitted\u001b[0;34m(estimator, attributes, msg, all_or_any)\u001b[0m\n\u001b[1;32m   1039\u001b[0m \u001b[0;34m\u001b[0m\u001b[0m\n\u001b[1;32m   1040\u001b[0m     \u001b[0;32mif\u001b[0m \u001b[0;32mnot\u001b[0m \u001b[0mattrs\u001b[0m\u001b[0;34m:\u001b[0m\u001b[0;34m\u001b[0m\u001b[0;34m\u001b[0m\u001b[0m\n\u001b[0;32m-> 1041\u001b[0;31m         \u001b[0;32mraise\u001b[0m \u001b[0mNotFittedError\u001b[0m\u001b[0;34m(\u001b[0m\u001b[0mmsg\u001b[0m \u001b[0;34m%\u001b[0m \u001b[0;34m{\u001b[0m\u001b[0;34m'name'\u001b[0m\u001b[0;34m:\u001b[0m \u001b[0mtype\u001b[0m\u001b[0;34m(\u001b[0m\u001b[0mestimator\u001b[0m\u001b[0;34m)\u001b[0m\u001b[0;34m.\u001b[0m\u001b[0m__name__\u001b[0m\u001b[0;34m}\u001b[0m\u001b[0;34m)\u001b[0m\u001b[0;34m\u001b[0m\u001b[0;34m\u001b[0m\u001b[0m\n\u001b[0m\u001b[1;32m   1042\u001b[0m \u001b[0;34m\u001b[0m\u001b[0m\n\u001b[1;32m   1043\u001b[0m \u001b[0;34m\u001b[0m\u001b[0m\n",
      "\u001b[0;31mNotFittedError\u001b[0m: This KNeighborsClassifier instance is not fitted yet. Call 'fit' with appropriate arguments before using this estimator."
     ]
    }
   ],
   "source": [
    "y_pred = knn.predict(X_test)"
   ]
  },
  {
   "cell_type": "code",
   "execution_count": null,
   "id": "8b26afe9",
   "metadata": {},
   "outputs": [],
   "source": []
  },
  {
   "cell_type": "code",
   "execution_count": 1028,
   "id": "aa8ea4cf",
   "metadata": {},
   "outputs": [
    {
     "name": "stdout",
     "output_type": "stream",
     "text": [
      "[[169   4   0   0  19   9 112   3   0   0  25   0   0   0   0   0   2   0]\n",
      " [  0   0   0   0   2   4   0   0   0   0   1   0   0   0   0   0   0   0]\n",
      " [  9   0   0   0   3   8  12   0   0   2   7   0   0   0   0   0   3   0]\n",
      " [  0   1   0   0   0   1   1   0   0   0   1   0   0   0   0   0   0   0]\n",
      " [ 39   4   0   0  17  12  26   1   0   3  14   0   2   0   0   0   6   0]\n",
      " [ 24   8   5   0  23  22  31   6   0   4  14   0   1   0   0   0   9   0]\n",
      " [160   3   2   0  30  28 159   6   0   3  20   0   4   0   0   3  13   0]\n",
      " [ 10   6   1   0   9  11  14   2   0   0  11   0   0   0   0   0   6   0]\n",
      " [  0   2   0   0   0   2   0   0   0   0   4   0   0   0   0   0   2   0]\n",
      " [ 16   2   1   0  10   9   8   2   0   3  10   0   0   0   0   0   1   0]\n",
      " [ 60   3   1   0  18  27  57   2   0   7  16   0   3   0   0   0   4   0]\n",
      " [ 15   1   0   0  11   7   6   3   0   1   8   0   0   0   0   0   4   0]\n",
      " [ 13   0   0   0   6  12  16   0   0   1   8   0   1   0   0   0   4   0]\n",
      " [  1   0   0   0   1   1   0   0   0   0   1   0   0   0   0   0   1   0]\n",
      " [  0   0   0   0   0   0   0   0   0   0   1   0   0   0   0   0   0   0]\n",
      " [ 11   2   2   0   4   6  13   0   0   0   5   0   0   0   0   0   4   0]\n",
      " [ 21   1   2   0   9  12  13   5   0   1   6   0   3   0   0   0  10   0]\n",
      " [  0   0   1   0   1   0   1   0   0   0   0   0   0   0   0   0   2   0]]\n"
     ]
    }
   ],
   "source": [
    "print(confusion_matrix(y_test,y_pred))"
   ]
  },
  {
   "cell_type": "code",
   "execution_count": 1029,
   "id": "69b881a5",
   "metadata": {},
   "outputs": [
    {
     "name": "stdout",
     "output_type": "stream",
     "text": [
      "                                  precision    recall  f1-score   support\n",
      "\n",
      "  Brain and Other Nervous System       0.31      0.49      0.38       343\n",
      "                          Cervix       0.00      0.00      0.00         7\n",
      "                Colon and Rectum       0.00      0.00      0.00        44\n",
      "                   Female Breast       0.00      0.00      0.00         4\n",
      "                Hodgkin Lymphoma       0.10      0.14      0.12       124\n",
      "         Kidney and Renal Pelvis       0.13      0.15      0.14       147\n",
      "                       Leukemias       0.34      0.37      0.35       431\n",
      "Liver and Intrahepatic Bile Duct       0.07      0.03      0.04        70\n",
      "               Lung and Bronchus       0.00      0.00      0.00        10\n",
      "           Melanomas of the Skin       0.12      0.05      0.07        62\n",
      "            Non-Hodgkin Lymphoma       0.11      0.08      0.09       198\n",
      "         Oral Cavity and Pharynx       0.00      0.00      0.00        56\n",
      "                           Ovary       0.07      0.02      0.03        61\n",
      "                        Pancreas       0.00      0.00      0.00         5\n",
      "                         Stomach       0.00      0.00      0.00         1\n",
      "                          Testis       0.00      0.00      0.00        47\n",
      "                         Thyroid       0.14      0.12      0.13        83\n",
      "                 Urinary Bladder       0.00      0.00      0.00         5\n",
      "\n",
      "                        accuracy                           0.23      1698\n",
      "                       macro avg       0.08      0.08      0.07      1698\n",
      "                    weighted avg       0.20      0.23      0.21      1698\n",
      "\n"
     ]
    },
    {
     "name": "stderr",
     "output_type": "stream",
     "text": [
      "/Users/reemyousef/opt/anaconda3/lib/python3.8/site-packages/sklearn/metrics/_classification.py:1245: UndefinedMetricWarning: Precision and F-score are ill-defined and being set to 0.0 in labels with no predicted samples. Use `zero_division` parameter to control this behavior.\n",
      "  _warn_prf(average, modifier, msg_start, len(result))\n",
      "/Users/reemyousef/opt/anaconda3/lib/python3.8/site-packages/sklearn/metrics/_classification.py:1245: UndefinedMetricWarning: Precision and F-score are ill-defined and being set to 0.0 in labels with no predicted samples. Use `zero_division` parameter to control this behavior.\n",
      "  _warn_prf(average, modifier, msg_start, len(result))\n",
      "/Users/reemyousef/opt/anaconda3/lib/python3.8/site-packages/sklearn/metrics/_classification.py:1245: UndefinedMetricWarning: Precision and F-score are ill-defined and being set to 0.0 in labels with no predicted samples. Use `zero_division` parameter to control this behavior.\n",
      "  _warn_prf(average, modifier, msg_start, len(result))\n"
     ]
    }
   ],
   "source": [
    "print(classification_report(y_test,y_pred))"
   ]
  },
  {
   "cell_type": "code",
   "execution_count": null,
   "id": "e5956836",
   "metadata": {},
   "outputs": [],
   "source": []
  },
  {
   "cell_type": "code",
   "execution_count": 998,
   "id": "7d4c2b7b",
   "metadata": {},
   "outputs": [
    {
     "name": "stderr",
     "output_type": "stream",
     "text": [
      "/Users/reemyousef/opt/anaconda3/lib/python3.8/site-packages/sklearn/neighbors/_classification.py:179: DataConversionWarning: A column-vector y was passed when a 1d array was expected. Please change the shape of y to (n_samples,), for example using ravel().\n",
      "  return self._fit(X, y)\n",
      "<ipython-input-998-24c1a75e8473>:9: DeprecationWarning: elementwise comparison failed; this will raise an error in the future.\n",
      "  error_rate.append(np.mean(pred_i != y_test))\n"
     ]
    },
    {
     "ename": "ValueError",
     "evalue": "Unable to coerce to Series, length must be 1: given 1698",
     "output_type": "error",
     "traceback": [
      "\u001b[0;31m---------------------------------------------------------------------------\u001b[0m",
      "\u001b[0;31mValueError\u001b[0m                                Traceback (most recent call last)",
      "\u001b[0;32m<ipython-input-998-24c1a75e8473>\u001b[0m in \u001b[0;36m<module>\u001b[0;34m\u001b[0m\n\u001b[1;32m      7\u001b[0m     \u001b[0mknn\u001b[0m\u001b[0;34m.\u001b[0m\u001b[0mfit\u001b[0m\u001b[0;34m(\u001b[0m\u001b[0mX_train\u001b[0m\u001b[0;34m,\u001b[0m\u001b[0my_train\u001b[0m\u001b[0;34m)\u001b[0m\u001b[0;34m\u001b[0m\u001b[0;34m\u001b[0m\u001b[0m\n\u001b[1;32m      8\u001b[0m     \u001b[0mpred_i\u001b[0m \u001b[0;34m=\u001b[0m \u001b[0mknn\u001b[0m\u001b[0;34m.\u001b[0m\u001b[0mpredict\u001b[0m\u001b[0;34m(\u001b[0m\u001b[0mX_test\u001b[0m\u001b[0;34m)\u001b[0m\u001b[0;34m\u001b[0m\u001b[0;34m\u001b[0m\u001b[0m\n\u001b[0;32m----> 9\u001b[0;31m     \u001b[0merror_rate\u001b[0m\u001b[0;34m.\u001b[0m\u001b[0mappend\u001b[0m\u001b[0;34m(\u001b[0m\u001b[0mnp\u001b[0m\u001b[0;34m.\u001b[0m\u001b[0mmean\u001b[0m\u001b[0;34m(\u001b[0m\u001b[0mpred_i\u001b[0m \u001b[0;34m!=\u001b[0m \u001b[0my_test\u001b[0m\u001b[0;34m)\u001b[0m\u001b[0;34m)\u001b[0m\u001b[0;34m\u001b[0m\u001b[0;34m\u001b[0m\u001b[0m\n\u001b[0m",
      "\u001b[0;32m~/opt/anaconda3/lib/python3.8/site-packages/pandas/core/ops/common.py\u001b[0m in \u001b[0;36mnew_method\u001b[0;34m(self, other)\u001b[0m\n\u001b[1;32m     63\u001b[0m         \u001b[0mother\u001b[0m \u001b[0;34m=\u001b[0m \u001b[0mitem_from_zerodim\u001b[0m\u001b[0;34m(\u001b[0m\u001b[0mother\u001b[0m\u001b[0;34m)\u001b[0m\u001b[0;34m\u001b[0m\u001b[0;34m\u001b[0m\u001b[0m\n\u001b[1;32m     64\u001b[0m \u001b[0;34m\u001b[0m\u001b[0m\n\u001b[0;32m---> 65\u001b[0;31m         \u001b[0;32mreturn\u001b[0m \u001b[0mmethod\u001b[0m\u001b[0;34m(\u001b[0m\u001b[0mself\u001b[0m\u001b[0;34m,\u001b[0m \u001b[0mother\u001b[0m\u001b[0;34m)\u001b[0m\u001b[0;34m\u001b[0m\u001b[0;34m\u001b[0m\u001b[0m\n\u001b[0m\u001b[1;32m     66\u001b[0m \u001b[0;34m\u001b[0m\u001b[0m\n\u001b[1;32m     67\u001b[0m     \u001b[0;32mreturn\u001b[0m \u001b[0mnew_method\u001b[0m\u001b[0;34m\u001b[0m\u001b[0;34m\u001b[0m\u001b[0m\n",
      "\u001b[0;32m~/opt/anaconda3/lib/python3.8/site-packages/pandas/core/arraylike.py\u001b[0m in \u001b[0;36m__ne__\u001b[0;34m(self, other)\u001b[0m\n\u001b[1;32m     31\u001b[0m     \u001b[0;34m@\u001b[0m\u001b[0munpack_zerodim_and_defer\u001b[0m\u001b[0;34m(\u001b[0m\u001b[0;34m\"__ne__\"\u001b[0m\u001b[0;34m)\u001b[0m\u001b[0;34m\u001b[0m\u001b[0;34m\u001b[0m\u001b[0m\n\u001b[1;32m     32\u001b[0m     \u001b[0;32mdef\u001b[0m \u001b[0m__ne__\u001b[0m\u001b[0;34m(\u001b[0m\u001b[0mself\u001b[0m\u001b[0;34m,\u001b[0m \u001b[0mother\u001b[0m\u001b[0;34m)\u001b[0m\u001b[0;34m:\u001b[0m\u001b[0;34m\u001b[0m\u001b[0;34m\u001b[0m\u001b[0m\n\u001b[0;32m---> 33\u001b[0;31m         \u001b[0;32mreturn\u001b[0m \u001b[0mself\u001b[0m\u001b[0;34m.\u001b[0m\u001b[0m_cmp_method\u001b[0m\u001b[0;34m(\u001b[0m\u001b[0mother\u001b[0m\u001b[0;34m,\u001b[0m \u001b[0moperator\u001b[0m\u001b[0;34m.\u001b[0m\u001b[0mne\u001b[0m\u001b[0;34m)\u001b[0m\u001b[0;34m\u001b[0m\u001b[0;34m\u001b[0m\u001b[0m\n\u001b[0m\u001b[1;32m     34\u001b[0m \u001b[0;34m\u001b[0m\u001b[0m\n\u001b[1;32m     35\u001b[0m     \u001b[0;34m@\u001b[0m\u001b[0munpack_zerodim_and_defer\u001b[0m\u001b[0;34m(\u001b[0m\u001b[0;34m\"__lt__\"\u001b[0m\u001b[0;34m)\u001b[0m\u001b[0;34m\u001b[0m\u001b[0;34m\u001b[0m\u001b[0m\n",
      "\u001b[0;32m~/opt/anaconda3/lib/python3.8/site-packages/pandas/core/frame.py\u001b[0m in \u001b[0;36m_cmp_method\u001b[0;34m(self, other, op)\u001b[0m\n\u001b[1;32m   5966\u001b[0m         \u001b[0maxis\u001b[0m \u001b[0;34m=\u001b[0m \u001b[0;36m1\u001b[0m  \u001b[0;31m# only relevant for Series other case\u001b[0m\u001b[0;34m\u001b[0m\u001b[0;34m\u001b[0m\u001b[0m\n\u001b[1;32m   5967\u001b[0m \u001b[0;34m\u001b[0m\u001b[0m\n\u001b[0;32m-> 5968\u001b[0;31m         \u001b[0mself\u001b[0m\u001b[0;34m,\u001b[0m \u001b[0mother\u001b[0m \u001b[0;34m=\u001b[0m \u001b[0mops\u001b[0m\u001b[0;34m.\u001b[0m\u001b[0malign_method_FRAME\u001b[0m\u001b[0;34m(\u001b[0m\u001b[0mself\u001b[0m\u001b[0;34m,\u001b[0m \u001b[0mother\u001b[0m\u001b[0;34m,\u001b[0m \u001b[0maxis\u001b[0m\u001b[0;34m,\u001b[0m \u001b[0mflex\u001b[0m\u001b[0;34m=\u001b[0m\u001b[0;32mFalse\u001b[0m\u001b[0;34m,\u001b[0m \u001b[0mlevel\u001b[0m\u001b[0;34m=\u001b[0m\u001b[0;32mNone\u001b[0m\u001b[0;34m)\u001b[0m\u001b[0;34m\u001b[0m\u001b[0;34m\u001b[0m\u001b[0m\n\u001b[0m\u001b[1;32m   5969\u001b[0m \u001b[0;34m\u001b[0m\u001b[0m\n\u001b[1;32m   5970\u001b[0m         \u001b[0;31m# See GH#4537 for discussion of scalar op behavior\u001b[0m\u001b[0;34m\u001b[0m\u001b[0;34m\u001b[0m\u001b[0;34m\u001b[0m\u001b[0m\n",
      "\u001b[0;32m~/opt/anaconda3/lib/python3.8/site-packages/pandas/core/ops/__init__.py\u001b[0m in \u001b[0;36malign_method_FRAME\u001b[0;34m(left, right, axis, flex, level)\u001b[0m\n\u001b[1;32m    226\u001b[0m \u001b[0;34m\u001b[0m\u001b[0m\n\u001b[1;32m    227\u001b[0m         \u001b[0;32mif\u001b[0m \u001b[0mright\u001b[0m\u001b[0;34m.\u001b[0m\u001b[0mndim\u001b[0m \u001b[0;34m==\u001b[0m \u001b[0;36m1\u001b[0m\u001b[0;34m:\u001b[0m\u001b[0;34m\u001b[0m\u001b[0;34m\u001b[0m\u001b[0m\n\u001b[0;32m--> 228\u001b[0;31m             \u001b[0mright\u001b[0m \u001b[0;34m=\u001b[0m \u001b[0mto_series\u001b[0m\u001b[0;34m(\u001b[0m\u001b[0mright\u001b[0m\u001b[0;34m)\u001b[0m\u001b[0;34m\u001b[0m\u001b[0;34m\u001b[0m\u001b[0m\n\u001b[0m\u001b[1;32m    229\u001b[0m \u001b[0;34m\u001b[0m\u001b[0m\n\u001b[1;32m    230\u001b[0m         \u001b[0;32melif\u001b[0m \u001b[0mright\u001b[0m\u001b[0;34m.\u001b[0m\u001b[0mndim\u001b[0m \u001b[0;34m==\u001b[0m \u001b[0;36m2\u001b[0m\u001b[0;34m:\u001b[0m\u001b[0;34m\u001b[0m\u001b[0;34m\u001b[0m\u001b[0m\n",
      "\u001b[0;32m~/opt/anaconda3/lib/python3.8/site-packages/pandas/core/ops/__init__.py\u001b[0m in \u001b[0;36mto_series\u001b[0;34m(right)\u001b[0m\n\u001b[1;32m    217\u001b[0m         \u001b[0;32melse\u001b[0m\u001b[0;34m:\u001b[0m\u001b[0;34m\u001b[0m\u001b[0;34m\u001b[0m\u001b[0m\n\u001b[1;32m    218\u001b[0m             \u001b[0;32mif\u001b[0m \u001b[0mlen\u001b[0m\u001b[0;34m(\u001b[0m\u001b[0mleft\u001b[0m\u001b[0;34m.\u001b[0m\u001b[0mcolumns\u001b[0m\u001b[0;34m)\u001b[0m \u001b[0;34m!=\u001b[0m \u001b[0mlen\u001b[0m\u001b[0;34m(\u001b[0m\u001b[0mright\u001b[0m\u001b[0;34m)\u001b[0m\u001b[0;34m:\u001b[0m\u001b[0;34m\u001b[0m\u001b[0;34m\u001b[0m\u001b[0m\n\u001b[0;32m--> 219\u001b[0;31m                 raise ValueError(\n\u001b[0m\u001b[1;32m    220\u001b[0m                     \u001b[0mmsg\u001b[0m\u001b[0;34m.\u001b[0m\u001b[0mformat\u001b[0m\u001b[0;34m(\u001b[0m\u001b[0mreq_len\u001b[0m\u001b[0;34m=\u001b[0m\u001b[0mlen\u001b[0m\u001b[0;34m(\u001b[0m\u001b[0mleft\u001b[0m\u001b[0;34m.\u001b[0m\u001b[0mcolumns\u001b[0m\u001b[0;34m)\u001b[0m\u001b[0;34m,\u001b[0m \u001b[0mgiven_len\u001b[0m\u001b[0;34m=\u001b[0m\u001b[0mlen\u001b[0m\u001b[0;34m(\u001b[0m\u001b[0mright\u001b[0m\u001b[0;34m)\u001b[0m\u001b[0;34m)\u001b[0m\u001b[0;34m\u001b[0m\u001b[0;34m\u001b[0m\u001b[0m\n\u001b[1;32m    221\u001b[0m                 )\n",
      "\u001b[0;31mValueError\u001b[0m: Unable to coerce to Series, length must be 1: given 1698"
     ]
    }
   ],
   "source": [
    "error_rate = []\n",
    "\n",
    "# Will take some time\n",
    "for i in range(1,6):\n",
    "    \n",
    "    knn = KNeighborsClassifier(n_neighbors=i)\n",
    "    knn.fit(X_train,y_train)\n",
    "    pred_i = knn.predict(X_test)\n",
    "    error_rate.append(np.mean(pred_i != y_test))"
   ]
  },
  {
   "cell_type": "code",
   "execution_count": 999,
   "id": "7f852aba",
   "metadata": {},
   "outputs": [
    {
     "ename": "ValueError",
     "evalue": "x and y must have same first dimension, but have shapes (5,) and (0,)",
     "output_type": "error",
     "traceback": [
      "\u001b[0;31m---------------------------------------------------------------------------\u001b[0m",
      "\u001b[0;31mValueError\u001b[0m                                Traceback (most recent call last)",
      "\u001b[0;32m<ipython-input-999-1cdacf832a14>\u001b[0m in \u001b[0;36m<module>\u001b[0;34m\u001b[0m\n\u001b[1;32m      1\u001b[0m \u001b[0mplt\u001b[0m\u001b[0;34m.\u001b[0m\u001b[0mfigure\u001b[0m\u001b[0;34m(\u001b[0m\u001b[0mfigsize\u001b[0m\u001b[0;34m=\u001b[0m\u001b[0;34m(\u001b[0m\u001b[0;36m1\u001b[0m\u001b[0;34m,\u001b[0m\u001b[0;36m6\u001b[0m\u001b[0;34m)\u001b[0m\u001b[0;34m)\u001b[0m\u001b[0;34m\u001b[0m\u001b[0;34m\u001b[0m\u001b[0m\n\u001b[0;32m----> 2\u001b[0;31m plt.plot(range(1,6),error_rate,color='blue', linestyle='dashed', marker='o',\n\u001b[0m\u001b[1;32m      3\u001b[0m          markerfacecolor='red', markersize=10)\n\u001b[1;32m      4\u001b[0m \u001b[0mplt\u001b[0m\u001b[0;34m.\u001b[0m\u001b[0mtitle\u001b[0m\u001b[0;34m(\u001b[0m\u001b[0;34m'Error Rate vs. K Value'\u001b[0m\u001b[0;34m)\u001b[0m\u001b[0;34m\u001b[0m\u001b[0;34m\u001b[0m\u001b[0m\n\u001b[1;32m      5\u001b[0m \u001b[0mplt\u001b[0m\u001b[0;34m.\u001b[0m\u001b[0mxlabel\u001b[0m\u001b[0;34m(\u001b[0m\u001b[0;34m'K'\u001b[0m\u001b[0;34m)\u001b[0m\u001b[0;34m\u001b[0m\u001b[0;34m\u001b[0m\u001b[0m\n",
      "\u001b[0;32m~/opt/anaconda3/lib/python3.8/site-packages/matplotlib/pyplot.py\u001b[0m in \u001b[0;36mplot\u001b[0;34m(scalex, scaley, data, *args, **kwargs)\u001b[0m\n\u001b[1;32m   2838\u001b[0m \u001b[0;34m@\u001b[0m\u001b[0m_copy_docstring_and_deprecators\u001b[0m\u001b[0;34m(\u001b[0m\u001b[0mAxes\u001b[0m\u001b[0;34m.\u001b[0m\u001b[0mplot\u001b[0m\u001b[0;34m)\u001b[0m\u001b[0;34m\u001b[0m\u001b[0;34m\u001b[0m\u001b[0m\n\u001b[1;32m   2839\u001b[0m \u001b[0;32mdef\u001b[0m \u001b[0mplot\u001b[0m\u001b[0;34m(\u001b[0m\u001b[0;34m*\u001b[0m\u001b[0margs\u001b[0m\u001b[0;34m,\u001b[0m \u001b[0mscalex\u001b[0m\u001b[0;34m=\u001b[0m\u001b[0;32mTrue\u001b[0m\u001b[0;34m,\u001b[0m \u001b[0mscaley\u001b[0m\u001b[0;34m=\u001b[0m\u001b[0;32mTrue\u001b[0m\u001b[0;34m,\u001b[0m \u001b[0mdata\u001b[0m\u001b[0;34m=\u001b[0m\u001b[0;32mNone\u001b[0m\u001b[0;34m,\u001b[0m \u001b[0;34m**\u001b[0m\u001b[0mkwargs\u001b[0m\u001b[0;34m)\u001b[0m\u001b[0;34m:\u001b[0m\u001b[0;34m\u001b[0m\u001b[0;34m\u001b[0m\u001b[0m\n\u001b[0;32m-> 2840\u001b[0;31m     return gca().plot(\n\u001b[0m\u001b[1;32m   2841\u001b[0m         \u001b[0;34m*\u001b[0m\u001b[0margs\u001b[0m\u001b[0;34m,\u001b[0m \u001b[0mscalex\u001b[0m\u001b[0;34m=\u001b[0m\u001b[0mscalex\u001b[0m\u001b[0;34m,\u001b[0m \u001b[0mscaley\u001b[0m\u001b[0;34m=\u001b[0m\u001b[0mscaley\u001b[0m\u001b[0;34m,\u001b[0m\u001b[0;34m\u001b[0m\u001b[0;34m\u001b[0m\u001b[0m\n\u001b[1;32m   2842\u001b[0m         **({\"data\": data} if data is not None else {}), **kwargs)\n",
      "\u001b[0;32m~/opt/anaconda3/lib/python3.8/site-packages/matplotlib/axes/_axes.py\u001b[0m in \u001b[0;36mplot\u001b[0;34m(self, scalex, scaley, data, *args, **kwargs)\u001b[0m\n\u001b[1;32m   1741\u001b[0m         \"\"\"\n\u001b[1;32m   1742\u001b[0m         \u001b[0mkwargs\u001b[0m \u001b[0;34m=\u001b[0m \u001b[0mcbook\u001b[0m\u001b[0;34m.\u001b[0m\u001b[0mnormalize_kwargs\u001b[0m\u001b[0;34m(\u001b[0m\u001b[0mkwargs\u001b[0m\u001b[0;34m,\u001b[0m \u001b[0mmlines\u001b[0m\u001b[0;34m.\u001b[0m\u001b[0mLine2D\u001b[0m\u001b[0;34m)\u001b[0m\u001b[0;34m\u001b[0m\u001b[0;34m\u001b[0m\u001b[0m\n\u001b[0;32m-> 1743\u001b[0;31m         \u001b[0mlines\u001b[0m \u001b[0;34m=\u001b[0m \u001b[0;34m[\u001b[0m\u001b[0;34m*\u001b[0m\u001b[0mself\u001b[0m\u001b[0;34m.\u001b[0m\u001b[0m_get_lines\u001b[0m\u001b[0;34m(\u001b[0m\u001b[0;34m*\u001b[0m\u001b[0margs\u001b[0m\u001b[0;34m,\u001b[0m \u001b[0mdata\u001b[0m\u001b[0;34m=\u001b[0m\u001b[0mdata\u001b[0m\u001b[0;34m,\u001b[0m \u001b[0;34m**\u001b[0m\u001b[0mkwargs\u001b[0m\u001b[0;34m)\u001b[0m\u001b[0;34m]\u001b[0m\u001b[0;34m\u001b[0m\u001b[0;34m\u001b[0m\u001b[0m\n\u001b[0m\u001b[1;32m   1744\u001b[0m         \u001b[0;32mfor\u001b[0m \u001b[0mline\u001b[0m \u001b[0;32min\u001b[0m \u001b[0mlines\u001b[0m\u001b[0;34m:\u001b[0m\u001b[0;34m\u001b[0m\u001b[0;34m\u001b[0m\u001b[0m\n\u001b[1;32m   1745\u001b[0m             \u001b[0mself\u001b[0m\u001b[0;34m.\u001b[0m\u001b[0madd_line\u001b[0m\u001b[0;34m(\u001b[0m\u001b[0mline\u001b[0m\u001b[0;34m)\u001b[0m\u001b[0;34m\u001b[0m\u001b[0;34m\u001b[0m\u001b[0m\n",
      "\u001b[0;32m~/opt/anaconda3/lib/python3.8/site-packages/matplotlib/axes/_base.py\u001b[0m in \u001b[0;36m__call__\u001b[0;34m(self, data, *args, **kwargs)\u001b[0m\n\u001b[1;32m    271\u001b[0m                 \u001b[0mthis\u001b[0m \u001b[0;34m+=\u001b[0m \u001b[0margs\u001b[0m\u001b[0;34m[\u001b[0m\u001b[0;36m0\u001b[0m\u001b[0;34m]\u001b[0m\u001b[0;34m,\u001b[0m\u001b[0;34m\u001b[0m\u001b[0;34m\u001b[0m\u001b[0m\n\u001b[1;32m    272\u001b[0m                 \u001b[0margs\u001b[0m \u001b[0;34m=\u001b[0m \u001b[0margs\u001b[0m\u001b[0;34m[\u001b[0m\u001b[0;36m1\u001b[0m\u001b[0;34m:\u001b[0m\u001b[0;34m]\u001b[0m\u001b[0;34m\u001b[0m\u001b[0;34m\u001b[0m\u001b[0m\n\u001b[0;32m--> 273\u001b[0;31m             \u001b[0;32myield\u001b[0m \u001b[0;32mfrom\u001b[0m \u001b[0mself\u001b[0m\u001b[0;34m.\u001b[0m\u001b[0m_plot_args\u001b[0m\u001b[0;34m(\u001b[0m\u001b[0mthis\u001b[0m\u001b[0;34m,\u001b[0m \u001b[0mkwargs\u001b[0m\u001b[0;34m)\u001b[0m\u001b[0;34m\u001b[0m\u001b[0;34m\u001b[0m\u001b[0m\n\u001b[0m\u001b[1;32m    274\u001b[0m \u001b[0;34m\u001b[0m\u001b[0m\n\u001b[1;32m    275\u001b[0m     \u001b[0;32mdef\u001b[0m \u001b[0mget_next_color\u001b[0m\u001b[0;34m(\u001b[0m\u001b[0mself\u001b[0m\u001b[0;34m)\u001b[0m\u001b[0;34m:\u001b[0m\u001b[0;34m\u001b[0m\u001b[0;34m\u001b[0m\u001b[0m\n",
      "\u001b[0;32m~/opt/anaconda3/lib/python3.8/site-packages/matplotlib/axes/_base.py\u001b[0m in \u001b[0;36m_plot_args\u001b[0;34m(self, tup, kwargs)\u001b[0m\n\u001b[1;32m    397\u001b[0m \u001b[0;34m\u001b[0m\u001b[0m\n\u001b[1;32m    398\u001b[0m         \u001b[0;32mif\u001b[0m \u001b[0mx\u001b[0m\u001b[0;34m.\u001b[0m\u001b[0mshape\u001b[0m\u001b[0;34m[\u001b[0m\u001b[0;36m0\u001b[0m\u001b[0;34m]\u001b[0m \u001b[0;34m!=\u001b[0m \u001b[0my\u001b[0m\u001b[0;34m.\u001b[0m\u001b[0mshape\u001b[0m\u001b[0;34m[\u001b[0m\u001b[0;36m0\u001b[0m\u001b[0;34m]\u001b[0m\u001b[0;34m:\u001b[0m\u001b[0;34m\u001b[0m\u001b[0;34m\u001b[0m\u001b[0m\n\u001b[0;32m--> 399\u001b[0;31m             raise ValueError(f\"x and y must have same first dimension, but \"\n\u001b[0m\u001b[1;32m    400\u001b[0m                              f\"have shapes {x.shape} and {y.shape}\")\n\u001b[1;32m    401\u001b[0m         \u001b[0;32mif\u001b[0m \u001b[0mx\u001b[0m\u001b[0;34m.\u001b[0m\u001b[0mndim\u001b[0m \u001b[0;34m>\u001b[0m \u001b[0;36m2\u001b[0m \u001b[0;32mor\u001b[0m \u001b[0my\u001b[0m\u001b[0;34m.\u001b[0m\u001b[0mndim\u001b[0m \u001b[0;34m>\u001b[0m \u001b[0;36m2\u001b[0m\u001b[0;34m:\u001b[0m\u001b[0;34m\u001b[0m\u001b[0;34m\u001b[0m\u001b[0m\n",
      "\u001b[0;31mValueError\u001b[0m: x and y must have same first dimension, but have shapes (5,) and (0,)"
     ]
    },
    {
     "data": {
      "image/png": "[encoded data removed]",
      "text/plain": [
       "<Figure size 72x432 with 1 Axes>"
      ]
     },
     "metadata": {
      "needs_background": "light"
     },
     "output_type": "display_data"
    }
   ],
   "source": [
    "plt.figure(figsize=(1,6))\n",
    "plt.plot(range(1,6),error_rate,color='blue', linestyle='dashed', marker='o',\n",
    "         markerfacecolor='red', markersize=10)\n",
    "plt.title('Error Rate vs. K Value')\n",
    "plt.xlabel('K')\n",
    "plt.ylabel('Error Rate')"
   ]
  },
  {
   "cell_type": "code",
   "execution_count": null,
   "id": "5f89a71c",
   "metadata": {},
   "outputs": [],
   "source": []
  },
  {
   "cell_type": "code",
   "execution_count": null,
   "id": "c5426d80",
   "metadata": {},
   "outputs": [],
   "source": []
  },
  {
   "cell_type": "code",
   "execution_count": null,
   "id": "a4ffe2b9",
   "metadata": {},
   "outputs": [],
   "source": []
  }
 ],
 "metadata": {
  "kernelspec": {
   "display_name": "Python 3",
   "language": "python",
   "name": "python3"
  },
  "language_info": {
   "codemirror_mode": {
    "name": "ipython",
    "version": 3
   },
   "file_extension": ".py",
   "mimetype": "text/x-python",
   "name": "python",
   "nbconvert_exporter": "python",
   "pygments_lexer": "ipython3",
   "version": "3.8.8"
  }
 },
 "nbformat": 4,
 "nbformat_minor": 5
}
